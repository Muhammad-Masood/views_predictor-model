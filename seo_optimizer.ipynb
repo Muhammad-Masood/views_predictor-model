{
  "metadata": {
    "kernelspec": {
      "language": "python",
      "display_name": "Python 3",
      "name": "python3"
    },
    "language_info": {
      "name": "python",
      "version": "3.10.12",
      "mimetype": "text/x-python",
      "codemirror_mode": {
        "name": "ipython",
        "version": 3
      },
      "pygments_lexer": "ipython3",
      "nbconvert_exporter": "python",
      "file_extension": ".py"
    },
    "kaggle": {
      "accelerator": "none",
      "dataSources": [
        {
          "sourceId": 10264764,
          "sourceType": "datasetVersion",
          "datasetId": 6350312
        },
        {
          "sourceId": 10265636,
          "sourceType": "datasetVersion",
          "datasetId": 6350926
        },
        {
          "sourceId": 10297376,
          "sourceType": "datasetVersion",
          "datasetId": 6373543
        }
      ],
      "dockerImageVersionId": 30822,
      "isInternetEnabled": false,
      "language": "python",
      "sourceType": "notebook",
      "isGpuEnabled": false
    },
    "colab": {
      "provenance": []
    }
  },
  "nbformat_minor": 0,
  "nbformat": 4,
  "cells": [
    {
      "cell_type": "code",
      "source": [
        "import pandas as pd\n",
        "\n",
        "df = pd.read_csv(\"videos_dataset.csv\", encoding='latin1')\n",
        "df.head()"
      ],
      "metadata": {
        "trusted": true,
        "execution": {
          "iopub.status.busy": "2024-12-26T12:45:49.781553Z",
          "iopub.execute_input": "2024-12-26T12:45:49.782064Z",
          "iopub.status.idle": "2024-12-26T12:45:51.015160Z",
          "shell.execute_reply.started": "2024-12-26T12:45:49.782020Z",
          "shell.execute_reply": "2024-12-26T12:45:51.014171Z"
        },
        "colab": {
          "base_uri": "https://localhost:8080/",
          "height": 608
        },
        "id": "HBPbuHNyZXFm",
        "outputId": "5c8a357b-61ae-4e14-d730-8480803d1394"
      },
      "outputs": [
        {
          "output_type": "execute_result",
          "data": {
            "text/plain": [
              "      video_id trending_date  \\\n",
              "0  kzwfHumJyYc      17.14.11   \n",
              "1  zUZ1z7FwLc8      17.14.11   \n",
              "2  10L1hZ9qa58      17.14.11   \n",
              "3  N1vE8iiEg64      17.14.11   \n",
              "4  kJzGH0PVQHQ      17.14.11   \n",
              "\n",
              "                                               title    channel_title  \\\n",
              "0  Sharry Mann: Cute Munda ( Song Teaser) | Parmi...  Lokdhun Punjabi   \n",
              "1  à¤ªà¥à¤°à¤¿à¤¯à¤¡à¥à¤¸ à¤à¥ à¤¸à¤®à¤¯, à¤ª...          HJ NEWS   \n",
              "2  Stylish Star Allu Arjun @ ChaySam Wedding Rece...             TFPC   \n",
              "3                     Eruma Saani | Tamil vs English      Eruma Saani   \n",
              "4  why Samantha became EMOTIONAL @ Samantha naga ...       Filmylooks   \n",
              "\n",
              "   category_id              publish_time  \\\n",
              "0            1  2017-11-12T12:20:39.000Z   \n",
              "1           25  2017-11-13T05:43:56.000Z   \n",
              "2           24  2017-11-12T15:48:08.000Z   \n",
              "3           23  2017-11-12T07:08:48.000Z   \n",
              "4           24  2017-11-13T01:14:16.000Z   \n",
              "\n",
              "                                                tags    views  likes  \\\n",
              "0  sharry mann|\"sharry mann new song\"|\"sharry man...  1096327  33966   \n",
              "1  à¤ªà¥à¤°à¤¿à¤¯à¤¡à¥à¤¸ à¤à¥ à¤¸à¤®à¤¯|\"à¤ª...   590101    735   \n",
              "2  Stylish Star Allu Arjun @ ChaySam Wedding Rece...   473988   2011   \n",
              "3  Eruma Saani|\"Tamil Comedy Videos\"|\"Films\"|\"Mov...  1242680  70353   \n",
              "4  Filmylooks|\"latest news\"|\"telugu movies\"|\"telu...   464015    492   \n",
              "\n",
              "   dislikes  comment_count                                  thumbnail_link  \\\n",
              "0       798            882  https://i.ytimg.com/vi/kzwfHumJyYc/default.jpg   \n",
              "1       904              0  https://i.ytimg.com/vi/zUZ1z7FwLc8/default.jpg   \n",
              "2       243            149  https://i.ytimg.com/vi/10L1hZ9qa58/default.jpg   \n",
              "3      1624           2684  https://i.ytimg.com/vi/N1vE8iiEg64/default.jpg   \n",
              "4       293             66  https://i.ytimg.com/vi/kJzGH0PVQHQ/default.jpg   \n",
              "\n",
              "   comments_disabled  ratings_disabled  video_error_or_removed  \\\n",
              "0              False             False                   False   \n",
              "1               True             False                   False   \n",
              "2              False             False                   False   \n",
              "3              False             False                   False   \n",
              "4              False             False                   False   \n",
              "\n",
              "                                         description  \n",
              "0  Presenting Sharry Mann latest Punjabi Song  Cu...  \n",
              "1  à¤ªà¥à¤°à¤¿à¤¯à¤¡à¥à¤¸ à¤à¥ à¤¸à¤®à¤¯, à¤ª...  \n",
              "2  Watch Stylish Star Allu Arjun @ ChaySam Weddin...  \n",
              "3  This video showcases the difference between pe...  \n",
              "4  why Samantha became EMOTIONAL @ Samantha naga ...  "
            ],
            "text/html": [
              "\n",
              "  <div id=\"df-131d6eef-4d47-4e34-a6a0-b6b2e4429110\" class=\"colab-df-container\">\n",
              "    <div>\n",
              "<style scoped>\n",
              "    .dataframe tbody tr th:only-of-type {\n",
              "        vertical-align: middle;\n",
              "    }\n",
              "\n",
              "    .dataframe tbody tr th {\n",
              "        vertical-align: top;\n",
              "    }\n",
              "\n",
              "    .dataframe thead th {\n",
              "        text-align: right;\n",
              "    }\n",
              "</style>\n",
              "<table border=\"1\" class=\"dataframe\">\n",
              "  <thead>\n",
              "    <tr style=\"text-align: right;\">\n",
              "      <th></th>\n",
              "      <th>video_id</th>\n",
              "      <th>trending_date</th>\n",
              "      <th>title</th>\n",
              "      <th>channel_title</th>\n",
              "      <th>category_id</th>\n",
              "      <th>publish_time</th>\n",
              "      <th>tags</th>\n",
              "      <th>views</th>\n",
              "      <th>likes</th>\n",
              "      <th>dislikes</th>\n",
              "      <th>comment_count</th>\n",
              "      <th>thumbnail_link</th>\n",
              "      <th>comments_disabled</th>\n",
              "      <th>ratings_disabled</th>\n",
              "      <th>video_error_or_removed</th>\n",
              "      <th>description</th>\n",
              "    </tr>\n",
              "  </thead>\n",
              "  <tbody>\n",
              "    <tr>\n",
              "      <th>0</th>\n",
              "      <td>kzwfHumJyYc</td>\n",
              "      <td>17.14.11</td>\n",
              "      <td>Sharry Mann: Cute Munda ( Song Teaser) | Parmi...</td>\n",
              "      <td>Lokdhun Punjabi</td>\n",
              "      <td>1</td>\n",
              "      <td>2017-11-12T12:20:39.000Z</td>\n",
              "      <td>sharry mann|\"sharry mann new song\"|\"sharry man...</td>\n",
              "      <td>1096327</td>\n",
              "      <td>33966</td>\n",
              "      <td>798</td>\n",
              "      <td>882</td>\n",
              "      <td>https://i.ytimg.com/vi/kzwfHumJyYc/default.jpg</td>\n",
              "      <td>False</td>\n",
              "      <td>False</td>\n",
              "      <td>False</td>\n",
              "      <td>Presenting Sharry Mann latest Punjabi Song  Cu...</td>\n",
              "    </tr>\n",
              "    <tr>\n",
              "      <th>1</th>\n",
              "      <td>zUZ1z7FwLc8</td>\n",
              "      <td>17.14.11</td>\n",
              "      <td>à¤ªà¥à¤°à¤¿à¤¯à¤¡à¥à¤¸ à¤à¥ à¤¸à¤®à¤¯, à¤ª...</td>\n",
              "      <td>HJ NEWS</td>\n",
              "      <td>25</td>\n",
              "      <td>2017-11-13T05:43:56.000Z</td>\n",
              "      <td>à¤ªà¥à¤°à¤¿à¤¯à¤¡à¥à¤¸ à¤à¥ à¤¸à¤®à¤¯|\"à¤ª...</td>\n",
              "      <td>590101</td>\n",
              "      <td>735</td>\n",
              "      <td>904</td>\n",
              "      <td>0</td>\n",
              "      <td>https://i.ytimg.com/vi/zUZ1z7FwLc8/default.jpg</td>\n",
              "      <td>True</td>\n",
              "      <td>False</td>\n",
              "      <td>False</td>\n",
              "      <td>à¤ªà¥à¤°à¤¿à¤¯à¤¡à¥à¤¸ à¤à¥ à¤¸à¤®à¤¯, à¤ª...</td>\n",
              "    </tr>\n",
              "    <tr>\n",
              "      <th>2</th>\n",
              "      <td>10L1hZ9qa58</td>\n",
              "      <td>17.14.11</td>\n",
              "      <td>Stylish Star Allu Arjun @ ChaySam Wedding Rece...</td>\n",
              "      <td>TFPC</td>\n",
              "      <td>24</td>\n",
              "      <td>2017-11-12T15:48:08.000Z</td>\n",
              "      <td>Stylish Star Allu Arjun @ ChaySam Wedding Rece...</td>\n",
              "      <td>473988</td>\n",
              "      <td>2011</td>\n",
              "      <td>243</td>\n",
              "      <td>149</td>\n",
              "      <td>https://i.ytimg.com/vi/10L1hZ9qa58/default.jpg</td>\n",
              "      <td>False</td>\n",
              "      <td>False</td>\n",
              "      <td>False</td>\n",
              "      <td>Watch Stylish Star Allu Arjun @ ChaySam Weddin...</td>\n",
              "    </tr>\n",
              "    <tr>\n",
              "      <th>3</th>\n",
              "      <td>N1vE8iiEg64</td>\n",
              "      <td>17.14.11</td>\n",
              "      <td>Eruma Saani | Tamil vs English</td>\n",
              "      <td>Eruma Saani</td>\n",
              "      <td>23</td>\n",
              "      <td>2017-11-12T07:08:48.000Z</td>\n",
              "      <td>Eruma Saani|\"Tamil Comedy Videos\"|\"Films\"|\"Mov...</td>\n",
              "      <td>1242680</td>\n",
              "      <td>70353</td>\n",
              "      <td>1624</td>\n",
              "      <td>2684</td>\n",
              "      <td>https://i.ytimg.com/vi/N1vE8iiEg64/default.jpg</td>\n",
              "      <td>False</td>\n",
              "      <td>False</td>\n",
              "      <td>False</td>\n",
              "      <td>This video showcases the difference between pe...</td>\n",
              "    </tr>\n",
              "    <tr>\n",
              "      <th>4</th>\n",
              "      <td>kJzGH0PVQHQ</td>\n",
              "      <td>17.14.11</td>\n",
              "      <td>why Samantha became EMOTIONAL @ Samantha naga ...</td>\n",
              "      <td>Filmylooks</td>\n",
              "      <td>24</td>\n",
              "      <td>2017-11-13T01:14:16.000Z</td>\n",
              "      <td>Filmylooks|\"latest news\"|\"telugu movies\"|\"telu...</td>\n",
              "      <td>464015</td>\n",
              "      <td>492</td>\n",
              "      <td>293</td>\n",
              "      <td>66</td>\n",
              "      <td>https://i.ytimg.com/vi/kJzGH0PVQHQ/default.jpg</td>\n",
              "      <td>False</td>\n",
              "      <td>False</td>\n",
              "      <td>False</td>\n",
              "      <td>why Samantha became EMOTIONAL @ Samantha naga ...</td>\n",
              "    </tr>\n",
              "  </tbody>\n",
              "</table>\n",
              "</div>\n",
              "    <div class=\"colab-df-buttons\">\n",
              "\n",
              "  <div class=\"colab-df-container\">\n",
              "    <button class=\"colab-df-convert\" onclick=\"convertToInteractive('df-131d6eef-4d47-4e34-a6a0-b6b2e4429110')\"\n",
              "            title=\"Convert this dataframe to an interactive table.\"\n",
              "            style=\"display:none;\">\n",
              "\n",
              "  <svg xmlns=\"http://www.w3.org/2000/svg\" height=\"24px\" viewBox=\"0 -960 960 960\">\n",
              "    <path d=\"M120-120v-720h720v720H120Zm60-500h600v-160H180v160Zm220 220h160v-160H400v160Zm0 220h160v-160H400v160ZM180-400h160v-160H180v160Zm440 0h160v-160H620v160ZM180-180h160v-160H180v160Zm440 0h160v-160H620v160Z\"/>\n",
              "  </svg>\n",
              "    </button>\n",
              "\n",
              "  <style>\n",
              "    .colab-df-container {\n",
              "      display:flex;\n",
              "      gap: 12px;\n",
              "    }\n",
              "\n",
              "    .colab-df-convert {\n",
              "      background-color: #E8F0FE;\n",
              "      border: none;\n",
              "      border-radius: 50%;\n",
              "      cursor: pointer;\n",
              "      display: none;\n",
              "      fill: #1967D2;\n",
              "      height: 32px;\n",
              "      padding: 0 0 0 0;\n",
              "      width: 32px;\n",
              "    }\n",
              "\n",
              "    .colab-df-convert:hover {\n",
              "      background-color: #E2EBFA;\n",
              "      box-shadow: 0px 1px 2px rgba(60, 64, 67, 0.3), 0px 1px 3px 1px rgba(60, 64, 67, 0.15);\n",
              "      fill: #174EA6;\n",
              "    }\n",
              "\n",
              "    .colab-df-buttons div {\n",
              "      margin-bottom: 4px;\n",
              "    }\n",
              "\n",
              "    [theme=dark] .colab-df-convert {\n",
              "      background-color: #3B4455;\n",
              "      fill: #D2E3FC;\n",
              "    }\n",
              "\n",
              "    [theme=dark] .colab-df-convert:hover {\n",
              "      background-color: #434B5C;\n",
              "      box-shadow: 0px 1px 3px 1px rgba(0, 0, 0, 0.15);\n",
              "      filter: drop-shadow(0px 1px 2px rgba(0, 0, 0, 0.3));\n",
              "      fill: #FFFFFF;\n",
              "    }\n",
              "  </style>\n",
              "\n",
              "    <script>\n",
              "      const buttonEl =\n",
              "        document.querySelector('#df-131d6eef-4d47-4e34-a6a0-b6b2e4429110 button.colab-df-convert');\n",
              "      buttonEl.style.display =\n",
              "        google.colab.kernel.accessAllowed ? 'block' : 'none';\n",
              "\n",
              "      async function convertToInteractive(key) {\n",
              "        const element = document.querySelector('#df-131d6eef-4d47-4e34-a6a0-b6b2e4429110');\n",
              "        const dataTable =\n",
              "          await google.colab.kernel.invokeFunction('convertToInteractive',\n",
              "                                                    [key], {});\n",
              "        if (!dataTable) return;\n",
              "\n",
              "        const docLinkHtml = 'Like what you see? Visit the ' +\n",
              "          '<a target=\"_blank\" href=https://colab.research.google.com/notebooks/data_table.ipynb>data table notebook</a>'\n",
              "          + ' to learn more about interactive tables.';\n",
              "        element.innerHTML = '';\n",
              "        dataTable['output_type'] = 'display_data';\n",
              "        await google.colab.output.renderOutput(dataTable, element);\n",
              "        const docLink = document.createElement('div');\n",
              "        docLink.innerHTML = docLinkHtml;\n",
              "        element.appendChild(docLink);\n",
              "      }\n",
              "    </script>\n",
              "  </div>\n",
              "\n",
              "\n",
              "<div id=\"df-233f23d3-e7df-4a5d-a107-dfeda114190c\">\n",
              "  <button class=\"colab-df-quickchart\" onclick=\"quickchart('df-233f23d3-e7df-4a5d-a107-dfeda114190c')\"\n",
              "            title=\"Suggest charts\"\n",
              "            style=\"display:none;\">\n",
              "\n",
              "<svg xmlns=\"http://www.w3.org/2000/svg\" height=\"24px\"viewBox=\"0 0 24 24\"\n",
              "     width=\"24px\">\n",
              "    <g>\n",
              "        <path d=\"M19 3H5c-1.1 0-2 .9-2 2v14c0 1.1.9 2 2 2h14c1.1 0 2-.9 2-2V5c0-1.1-.9-2-2-2zM9 17H7v-7h2v7zm4 0h-2V7h2v10zm4 0h-2v-4h2v4z\"/>\n",
              "    </g>\n",
              "</svg>\n",
              "  </button>\n",
              "\n",
              "<style>\n",
              "  .colab-df-quickchart {\n",
              "      --bg-color: #E8F0FE;\n",
              "      --fill-color: #1967D2;\n",
              "      --hover-bg-color: #E2EBFA;\n",
              "      --hover-fill-color: #174EA6;\n",
              "      --disabled-fill-color: #AAA;\n",
              "      --disabled-bg-color: #DDD;\n",
              "  }\n",
              "\n",
              "  [theme=dark] .colab-df-quickchart {\n",
              "      --bg-color: #3B4455;\n",
              "      --fill-color: #D2E3FC;\n",
              "      --hover-bg-color: #434B5C;\n",
              "      --hover-fill-color: #FFFFFF;\n",
              "      --disabled-bg-color: #3B4455;\n",
              "      --disabled-fill-color: #666;\n",
              "  }\n",
              "\n",
              "  .colab-df-quickchart {\n",
              "    background-color: var(--bg-color);\n",
              "    border: none;\n",
              "    border-radius: 50%;\n",
              "    cursor: pointer;\n",
              "    display: none;\n",
              "    fill: var(--fill-color);\n",
              "    height: 32px;\n",
              "    padding: 0;\n",
              "    width: 32px;\n",
              "  }\n",
              "\n",
              "  .colab-df-quickchart:hover {\n",
              "    background-color: var(--hover-bg-color);\n",
              "    box-shadow: 0 1px 2px rgba(60, 64, 67, 0.3), 0 1px 3px 1px rgba(60, 64, 67, 0.15);\n",
              "    fill: var(--button-hover-fill-color);\n",
              "  }\n",
              "\n",
              "  .colab-df-quickchart-complete:disabled,\n",
              "  .colab-df-quickchart-complete:disabled:hover {\n",
              "    background-color: var(--disabled-bg-color);\n",
              "    fill: var(--disabled-fill-color);\n",
              "    box-shadow: none;\n",
              "  }\n",
              "\n",
              "  .colab-df-spinner {\n",
              "    border: 2px solid var(--fill-color);\n",
              "    border-color: transparent;\n",
              "    border-bottom-color: var(--fill-color);\n",
              "    animation:\n",
              "      spin 1s steps(1) infinite;\n",
              "  }\n",
              "\n",
              "  @keyframes spin {\n",
              "    0% {\n",
              "      border-color: transparent;\n",
              "      border-bottom-color: var(--fill-color);\n",
              "      border-left-color: var(--fill-color);\n",
              "    }\n",
              "    20% {\n",
              "      border-color: transparent;\n",
              "      border-left-color: var(--fill-color);\n",
              "      border-top-color: var(--fill-color);\n",
              "    }\n",
              "    30% {\n",
              "      border-color: transparent;\n",
              "      border-left-color: var(--fill-color);\n",
              "      border-top-color: var(--fill-color);\n",
              "      border-right-color: var(--fill-color);\n",
              "    }\n",
              "    40% {\n",
              "      border-color: transparent;\n",
              "      border-right-color: var(--fill-color);\n",
              "      border-top-color: var(--fill-color);\n",
              "    }\n",
              "    60% {\n",
              "      border-color: transparent;\n",
              "      border-right-color: var(--fill-color);\n",
              "    }\n",
              "    80% {\n",
              "      border-color: transparent;\n",
              "      border-right-color: var(--fill-color);\n",
              "      border-bottom-color: var(--fill-color);\n",
              "    }\n",
              "    90% {\n",
              "      border-color: transparent;\n",
              "      border-bottom-color: var(--fill-color);\n",
              "    }\n",
              "  }\n",
              "</style>\n",
              "\n",
              "  <script>\n",
              "    async function quickchart(key) {\n",
              "      const quickchartButtonEl =\n",
              "        document.querySelector('#' + key + ' button');\n",
              "      quickchartButtonEl.disabled = true;  // To prevent multiple clicks.\n",
              "      quickchartButtonEl.classList.add('colab-df-spinner');\n",
              "      try {\n",
              "        const charts = await google.colab.kernel.invokeFunction(\n",
              "            'suggestCharts', [key], {});\n",
              "      } catch (error) {\n",
              "        console.error('Error during call to suggestCharts:', error);\n",
              "      }\n",
              "      quickchartButtonEl.classList.remove('colab-df-spinner');\n",
              "      quickchartButtonEl.classList.add('colab-df-quickchart-complete');\n",
              "    }\n",
              "    (() => {\n",
              "      let quickchartButtonEl =\n",
              "        document.querySelector('#df-233f23d3-e7df-4a5d-a107-dfeda114190c button');\n",
              "      quickchartButtonEl.style.display =\n",
              "        google.colab.kernel.accessAllowed ? 'block' : 'none';\n",
              "    })();\n",
              "  </script>\n",
              "</div>\n",
              "\n",
              "    </div>\n",
              "  </div>\n"
            ],
            "application/vnd.google.colaboratory.intrinsic+json": {
              "type": "dataframe",
              "variable_name": "df",
              "summary": "{\n  \"name\": \"df\",\n  \"rows\": 78301,\n  \"fields\": [\n    {\n      \"column\": \"video_id\",\n      \"properties\": {\n        \"dtype\": \"category\",\n        \"num_unique_values\": 22357,\n        \"samples\": [\n          \"ySQbARx-X5o\",\n          \"aNj9FbBptnE\",\n          \"pT5XvFLmzMU\"\n        ],\n        \"semantic_type\": \"\",\n        \"description\": \"\"\n      }\n    },\n    {\n      \"column\": \"trending_date\",\n      \"properties\": {\n        \"dtype\": \"category\",\n        \"num_unique_values\": 205,\n        \"samples\": [\n          \"17.29.11\",\n          \"17.23.11\",\n          \"18.24.02\"\n        ],\n        \"semantic_type\": \"\",\n        \"description\": \"\"\n      }\n    },\n    {\n      \"column\": \"title\",\n      \"properties\": {\n        \"dtype\": \"category\",\n        \"num_unique_values\": 22937,\n        \"samples\": [\n          \"\\u00e0\\u00ae\\u00b0\\u00e0\\u00ae\\u009c\\u00e0\\u00ae\\u00bf\\u00e0\\u00ae\\u00a9\\u00e0\\u00ae\\u00bf\\u00e0\\u00ae\\u00af\\u00e0\\u00af\\u0081\\u00e0\\u00ae\\u009f\\u00e0\\u00ae\\u00a9\\u00e0\\u00af\\u008d \\u00e0\\u00ae\\u00a4\\u00e0\\u00ae\\u00bf\\u00e0\\u00ae\\u009f\\u00e0\\u00af\\u0080\\u00e0\\u00ae\\u00b0\\u00e0\\u00af\\u008d \\u00e0\\u00ae\\u009a\\u00e0\\u00ae\\u00a8\\u00e0\\u00af\\u008d\\u00e0\\u00ae\\u00a4\\u00e0\\u00ae\\u00bf\\u00e0\\u00ae\\u00aa\\u00e0\\u00af\\u008d\\u00e0\\u00ae\\u00aa\\u00e0\\u00af\\u0081 \\u00e0\\u00ae\\u008f\\u00e0\\u00ae\\u00a9\\u00e0\\u00af\\u008d? \\u00e0\\u00ae\\u0095\\u00e0\\u00ae\\u00ae\\u00e0\\u00ae\\u00b2\\u00e0\\u00af\\u008d \\u00e0\\u00ae\\u00b5\\u00e0\\u00ae\\u00bf\\u00e0\\u00ae\\u00b3\\u00e0\\u00ae\\u0095\\u00e0\\u00af\\u008d\\u00e0\\u00ae\\u0095\\u00e0\\u00ae\\u00ae\\u00e0\\u00af\\u008d | Actor Kamal Press Meet After Meeting with Rajini\",\n          \"Lagira Zhala Jee - \\u00e0\\u00a4\\u00b2\\u00e0\\u00a4\\u0097\\u00e0\\u00a4\\u00bf\\u00e0\\u00a4\\u00b0\\u00e0\\u00a4\\u00be \\u00e0\\u00a4\\u009d\\u00e0\\u00a4\\u00b2\\u00e0\\u00a4\\u00be \\u00e0\\u00a4\\u009c\\u00e0\\u00a5\\u0080 - Episode 194  - December 8, 2017 - Preview\",\n          \"\\u00e0\\u00b0\\u009a\\u00e0\\u00b0\\u00be\\u00e0\\u00b0\\u00a8\\u00e0\\u00b1\\u008d\\u00e0\\u00b0\\u00b8\\u00e0\\u00b1\\u008d \\u00e0\\u00b0\\u0087\\u00e0\\u00b0\\u00b8\\u00e0\\u00b1\\u008d\\u00e0\\u00b0\\u00a4\\u00e0\\u00b0\\u00be \\u00e0\\u00b0\\u00b5\\u00e0\\u00b0\\u00b8\\u00e0\\u00b1\\u008d\\u00e0\\u00b0\\u00a4\\u00e0\\u00b0\\u00be\\u00e0\\u00b0\\u00b5\\u00e0\\u00b0\\u00be \\u00e0\\u00b0\\u0085\\u00e0\\u00b0\\u00a8\\u00e0\\u00b0\\u00bf \\u00e0\\u00b0\\u0085\\u00e0\\u00b0\\u00a1\\u00e0\\u00b0\\u00bf\\u00e0\\u00b0\\u0097\\u00e0\\u00b0\\u00bf\\u00e0\\u00b0\\u0082\\u00e0\\u00b0\\u00a6\\u00e0\\u00b0\\u00bf \\u00e0\\u00b0\\u009c\\u00e0\\u00b0\\u00ac\\u00e0\\u00b0\\u00b0\\u00e0\\u00b1\\u008d\\u00e0\\u00b0\\u00a6\\u00e0\\u00b0\\u00b8\\u00e0\\u00b1\\u008d\\u00e0\\u00b0\\u00a4\\u00e0\\u00b1\\u008d \\u00e0\\u00b0\\u00ab\\u00e0\\u00b0\\u00a3\\u00e0\\u00b0\\u00bf|Jabardasth Phani About Lady Producer|Comedian Phani\"\n        ],\n        \"semantic_type\": \"\",\n        \"description\": \"\"\n      }\n    },\n    {\n      \"column\": \"channel_title\",\n      \"properties\": {\n        \"dtype\": \"category\",\n        \"num_unique_values\": 3561,\n        \"samples\": [\n          \"Liza Koshy Too\",\n          \"Aaj Tak\",\n          \"LadyGagaVEVO\"\n        ],\n        \"semantic_type\": \"\",\n        \"description\": \"\"\n      }\n    },\n    {\n      \"column\": \"category_id\",\n      \"properties\": {\n        \"dtype\": \"number\",\n        \"std\": 7,\n        \"min\": 1,\n        \"max\": 43,\n        \"num_unique_values\": 17,\n        \"samples\": [\n          1,\n          25,\n          22\n        ],\n        \"semantic_type\": \"\",\n        \"description\": \"\"\n      }\n    },\n    {\n      \"column\": \"publish_time\",\n      \"properties\": {\n        \"dtype\": \"object\",\n        \"num_unique_values\": 22260,\n        \"samples\": [\n          \"2018-01-13T23:15:01.000Z\",\n          \"2017-11-18T07:39:33.000Z\",\n          \"2018-02-16T23:20:19.000Z\"\n        ],\n        \"semantic_type\": \"\",\n        \"description\": \"\"\n      }\n    },\n    {\n      \"column\": \"tags\",\n      \"properties\": {\n        \"dtype\": \"category\",\n        \"num_unique_values\": 18400,\n        \"samples\": [\n          \"late night|\\\"seth meyers\\\"|\\\"closer look\\\"|\\\"trump\\\"|\\\"republicans\\\"|\\\"rush\\\"|\\\"pass\\\"|\\\"tax plan\\\"|\\\"NBC\\\"|\\\"NBC TV\\\"|\\\"television\\\"|\\\"funny\\\"|\\\"talk show\\\"|\\\"comedy\\\"|\\\"humor\\\"|\\\"stand-up\\\"|\\\"parody\\\"|\\\"snl seth meyers\\\"|\\\"host\\\"|\\\"promo\\\"|\\\"seth\\\"|\\\"meyers\\\"|\\\"weekend update\\\"|\\\"news satire\\\"|\\\"satire\\\"|\\\"tax code\\\"|\\\"corporations\\\"|\\\"Navajo Code Talkers\\\"|\\\"poor person\\\"|\\\"Steve Mnuchin\\\"|\\\"Treasury Secretary\\\"|\\\"James Bond\\\"|\\\"Gary Cohn\\\"|\\\"tax reform\\\"\",\n          \"Dwayne Johnson|\\\"The Rock\\\"|\\\"Dwayne\\\"|\\\"Johnson\\\"|\\\"kevin hart\\\"|\\\"kevin\\\"|\\\"hart\\\"|\\\"Jumanji\\\"|\\\"Jumanji the movie\\\"|\\\"Ellen\\\"|\\\"degeneres\\\"|\\\"ellen degeneres\\\"|\\\"the ellen show\\\"|\\\"ellen fans\\\"|\\\"ellen tickets\\\"|\\\"ellentube\\\"|\\\"ellen audience\\\"|\\\"interview\\\"|\\\"funny\\\"|\\\"baby\\\"|\\\"news\\\"|\\\"baby daddy\\\"\",\n          \"gulati special|\\\"set india\\\"|\\\"sony entertainment channel\\\"|\\\"the kapil sharma show\\\"|\\\"kapil as rajesh arora\\\"|\\\"kapil sharma comedy\\\"|\\\"gulati comedy in kapil sharma show\\\"|\\\"gulati best comedy\\\"|\\\"dr mashoor gulati special\\\"|\\\"comedy video\\\"|\\\"arijit singh\\\"|\\\"arijit singh songs\\\"|\\\"kapil sharma stand alone\\\"|\\\"kapil & audience\\\"|\\\"kapil is surprised\\\"|\\\"the kapil sharma show full episode\\\"|\\\"kapil special clips\\\"|\\\"stand up comedy\\\"|\\\"kapil stand up comedy\\\"|\\\"kapil new show\\\"|\\\"family time kapil sharma\\\"\"\n        ],\n        \"semantic_type\": \"\",\n        \"description\": \"\"\n      }\n    },\n    {\n      \"column\": \"views\",\n      \"properties\": {\n        \"dtype\": \"number\",\n        \"std\": 5818295,\n        \"min\": 549,\n        \"max\": 225211923,\n        \"num_unique_values\": 71183,\n        \"samples\": [\n          3164899,\n          917295,\n          257193\n        ],\n        \"semantic_type\": \"\",\n        \"description\": \"\"\n      }\n    },\n    {\n      \"column\": \"likes\",\n      \"properties\": {\n        \"dtype\": \"number\",\n        \"std\": 180151,\n        \"min\": 0,\n        \"max\": 5613827,\n        \"num_unique_values\": 37786,\n        \"samples\": [\n          322200,\n          63665,\n          65897\n        ],\n        \"semantic_type\": \"\",\n        \"description\": \"\"\n      }\n    },\n    {\n      \"column\": \"dislikes\",\n      \"properties\": {\n        \"dtype\": \"number\",\n        \"std\": 23770,\n        \"min\": 0,\n        \"max\": 1674420,\n        \"num_unique_values\": 9773,\n        \"samples\": [\n          9629,\n          1654,\n          70572\n        ],\n        \"semantic_type\": \"\",\n        \"description\": \"\"\n      }\n    },\n    {\n      \"column\": \"comment_count\",\n      \"properties\": {\n        \"dtype\": \"number\",\n        \"std\": 29093,\n        \"min\": 0,\n        \"max\": 1361580,\n        \"num_unique_values\": 15068,\n        \"samples\": [\n          4255,\n          81253,\n          312\n        ],\n        \"semantic_type\": \"\",\n        \"description\": \"\"\n      }\n    },\n    {\n      \"column\": \"thumbnail_link\",\n      \"properties\": {\n        \"dtype\": \"category\",\n        \"num_unique_values\": 22636,\n        \"samples\": [\n          \"https://i.ytimg.com/vi/V4WrziiFXPw/default.jpg\",\n          \"https://i.ytimg.com/vi/ehYPZfCOpSU/default.jpg\",\n          \"https://i.ytimg.com/vi/-b0ww7L2MGU/default.jpg\"\n        ],\n        \"semantic_type\": \"\",\n        \"description\": \"\"\n      }\n    },\n    {\n      \"column\": \"comments_disabled\",\n      \"properties\": {\n        \"dtype\": \"boolean\",\n        \"num_unique_values\": 2,\n        \"samples\": [\n          true,\n          false\n        ],\n        \"semantic_type\": \"\",\n        \"description\": \"\"\n      }\n    },\n    {\n      \"column\": \"ratings_disabled\",\n      \"properties\": {\n        \"dtype\": \"boolean\",\n        \"num_unique_values\": 2,\n        \"samples\": [\n          true,\n          false\n        ],\n        \"semantic_type\": \"\",\n        \"description\": \"\"\n      }\n    },\n    {\n      \"column\": \"video_error_or_removed\",\n      \"properties\": {\n        \"dtype\": \"boolean\",\n        \"num_unique_values\": 2,\n        \"samples\": [\n          true,\n          false\n        ],\n        \"semantic_type\": \"\",\n        \"description\": \"\"\n      }\n    },\n    {\n      \"column\": \"description\",\n      \"properties\": {\n        \"dtype\": \"category\",\n        \"num_unique_values\": 20644,\n        \"samples\": [\n          \"Sign up for a free Audible 30 day trial! http://www.audible.com/jackieaina OR text jackieaina to 500-500\\\\n\\\\nThis video was done in partnership with Audible\\\\n\\\\n\\\\nMy Diamond Glow Powders http://bit.ly/2CJWrXw\\\\n\\\\nP R O D U C T S  M E N T I O N E D:\\\\n\\\\n\\\\n\\\\nC O D E S:\\\\n\\\\nMy man makes some DOPE lifestyle/motivational clothing! https://worksmarterlifestyle.com/\\\\n\\\\nhttp://www.Artistcouture.com discount code LABRONZE\\\\n\\\\nMorphe discount code! Use code EDGES for 10% off!\\\\nhttps://www.morphebrushes.com/\\\\n\\\\nUse code JACKIE for discount on all PUR Cosmetics purchases! http://www.purminerals.com/\\\\n\\\\nSigma Makeup Brushes http://bit.ly/1FkFUYl use code JACKIESIGMA for 10% off\\\\n\\\\n\\\\nC O N N E C T  W I T H   M E:\\\\ninstagram: @jackieaina\\\\nsnapchat: jackieaina\\\\nfacebook: Jackie Aina\\\\ntwitter: @jackieaina\\\\n\\\\n\\\\nB U S I N E S S:\\\\nFor business inquiries please contact jackie@rare.global\\\\n\\\\n\\\\n*Some affiliate links are used, which means I may receive a commission should you decide to click that link and make a purchase. My content is 100% not influenced by brands, PR products received, usage of affiliate links, or brand partnerships.\\\\n\\\\n\\\\nChanging the standard of beauty, one tutorial at a time :)\\\\nPhil 4:13\",\n          \"Automation is coming for truckers \\u00e2\\u0080\\u0093 but first, they're being watched.\\\\n\\\\nSubscribe to our channel! http://goo.gl/0bsAjO\\\\n\\\\nThe promise of self-driving trucks will radically reshape one of America's most common jobs. There are 3.5 million professional drivers in the US, all of whom may face job displacement in the autonomous future being developed by companies like Otto, Daimler, and Tesla. But before robots take the wheel entirely, there will be a long period where truckers and artificial technology split the responsibilities of the work. The first big step toward that future comes in the form of the electronic logging device, a dashboard monitor that tracks speed, location, and a driver's schedule, and reports it to an employer or a third-party monitoring service. It has a lot of truckers worried. \\\\n\\\\nRead Karen Levy's work here: \\\\nhttps://goo.gl/XHYuvv \\\\nhttps://goo.gl/BVJWmY\\\\n\\\\nRead the FMCSA's report on ELD safety:\\\\nhttps://goo.gl/ydYx1R\\\\n\\\\nRead the NAS report on driving fatigue:\\\\nhttps://goo.gl/VJVZMa\\\\n\\\\nVox.com is a news website that helps you cut through the noise and understand what's really driving the events in the headlines. Check out http://www.vox.com to get up to speed on everything from Kurdistan to the Kim Kardashian app. \\\\n\\\\nCheck out our full video catalog: http://goo.gl/IZONyE\\\\nFollow Vox on Twitter: http://goo.gl/XFrZ5H\\\\nOr on Facebook: http://goo.gl/U2g06o\"\n        ],\n        \"semantic_type\": \"\",\n        \"description\": \"\"\n      }\n    }\n  ]\n}"
            }
          },
          "metadata": {},
          "execution_count": 4
        }
      ],
      "execution_count": 4
    },
    {
      "cell_type": "code",
      "source": [
        "df.info()"
      ],
      "metadata": {
        "trusted": true,
        "execution": {
          "iopub.status.busy": "2024-12-22T07:54:37.931964Z",
          "iopub.execute_input": "2024-12-22T07:54:37.932447Z",
          "iopub.status.idle": "2024-12-22T07:54:37.996598Z",
          "shell.execute_reply.started": "2024-12-22T07:54:37.932391Z",
          "shell.execute_reply": "2024-12-22T07:54:37.995241Z"
        },
        "id": "7gVdz6sYZXFn",
        "outputId": "36d87cd0-53a0-4381-ba32-beaa6c70b5b0"
      },
      "outputs": [
        {
          "name": "stdout",
          "text": "<class 'pandas.core.frame.DataFrame'>\nRangeIndex: 78301 entries, 0 to 78300\nData columns (total 16 columns):\n #   Column                  Non-Null Count  Dtype \n---  ------                  --------------  ----- \n 0   video_id                78301 non-null  object\n 1   trending_date           78301 non-null  object\n 2   title                   78301 non-null  object\n 3   channel_title           78301 non-null  object\n 4   category_id             78301 non-null  int64 \n 5   publish_time            78301 non-null  object\n 6   tags                    78301 non-null  object\n 7   views                   78301 non-null  int64 \n 8   likes                   78301 non-null  int64 \n 9   dislikes                78301 non-null  int64 \n 10  comment_count           78301 non-null  int64 \n 11  thumbnail_link          78301 non-null  object\n 12  comments_disabled       78301 non-null  bool  \n 13  ratings_disabled        78301 non-null  bool  \n 14  video_error_or_removed  78301 non-null  bool  \n 15  description             77170 non-null  object\ndtypes: bool(3), int64(5), object(8)\nmemory usage: 8.0+ MB\n",
          "output_type": "stream"
        }
      ],
      "execution_count": null
    },
    {
      "cell_type": "code",
      "source": [
        "df.isna().any()"
      ],
      "metadata": {
        "trusted": true,
        "execution": {
          "iopub.status.busy": "2024-12-22T07:54:40.236988Z",
          "iopub.execute_input": "2024-12-22T07:54:40.237383Z",
          "iopub.status.idle": "2024-12-22T07:54:40.283027Z",
          "shell.execute_reply.started": "2024-12-22T07:54:40.237355Z",
          "shell.execute_reply": "2024-12-22T07:54:40.281648Z"
        },
        "id": "1QCoyo1lZXFn",
        "outputId": "91e6fbed-8ec6-44cb-abaf-a507efde5fca"
      },
      "outputs": [
        {
          "execution_count": 3,
          "output_type": "execute_result",
          "data": {
            "text/plain": "video_id                  False\ntrending_date             False\ntitle                     False\nchannel_title             False\ncategory_id               False\npublish_time              False\ntags                      False\nviews                     False\nlikes                     False\ndislikes                  False\ncomment_count             False\nthumbnail_link            False\ncomments_disabled         False\nratings_disabled          False\nvideo_error_or_removed    False\ndescription                True\ndtype: bool"
          },
          "metadata": {}
        }
      ],
      "execution_count": null
    },
    {
      "cell_type": "code",
      "source": [
        "columns_to_drop = [\"trending_date\",\"video_id\",\"channel_title\",\"category_id\",\"thumbnail_link\",\"comments_disabled\",\"ratings_disabled\",\"video_error_or_removed\"]\n",
        "df = df.drop(columns=columns_to_drop)"
      ],
      "metadata": {
        "trusted": true,
        "execution": {
          "iopub.status.busy": "2024-12-22T07:55:06.330471Z",
          "iopub.execute_input": "2024-12-22T07:55:06.330899Z",
          "iopub.status.idle": "2024-12-22T07:55:06.343943Z",
          "shell.execute_reply.started": "2024-12-22T07:55:06.330864Z",
          "shell.execute_reply": "2024-12-22T07:55:06.343002Z"
        },
        "id": "P6roTEQmZXFo"
      },
      "outputs": [],
      "execution_count": null
    },
    {
      "cell_type": "code",
      "source": [
        "df[\"description\"].isna().count()"
      ],
      "metadata": {
        "trusted": true,
        "execution": {
          "iopub.status.busy": "2024-12-22T07:55:11.851373Z",
          "iopub.execute_input": "2024-12-22T07:55:11.851875Z",
          "iopub.status.idle": "2024-12-22T07:55:11.867716Z",
          "shell.execute_reply.started": "2024-12-22T07:55:11.851834Z",
          "shell.execute_reply": "2024-12-22T07:55:11.866540Z"
        },
        "id": "u778Gjw8ZXFp",
        "outputId": "1db18506-437d-4606-d34b-f67fe9fe2872"
      },
      "outputs": [
        {
          "execution_count": 5,
          "output_type": "execute_result",
          "data": {
            "text/plain": "78301"
          },
          "metadata": {}
        }
      ],
      "execution_count": null
    },
    {
      "cell_type": "code",
      "source": [
        "df['description'].fillna(\"\", inplace=True)"
      ],
      "metadata": {
        "trusted": true,
        "execution": {
          "iopub.status.busy": "2024-12-22T07:55:17.546336Z",
          "iopub.execute_input": "2024-12-22T07:55:17.546798Z",
          "iopub.status.idle": "2024-12-22T07:55:17.561884Z",
          "shell.execute_reply.started": "2024-12-22T07:55:17.546762Z",
          "shell.execute_reply": "2024-12-22T07:55:17.560576Z"
        },
        "id": "F4L6usfmZXFq"
      },
      "outputs": [],
      "execution_count": null
    },
    {
      "cell_type": "code",
      "source": [
        "df.isna().any()"
      ],
      "metadata": {
        "trusted": true,
        "execution": {
          "iopub.status.busy": "2024-12-22T07:55:21.987021Z",
          "iopub.execute_input": "2024-12-22T07:55:21.987403Z",
          "iopub.status.idle": "2024-12-22T07:55:22.013947Z",
          "shell.execute_reply.started": "2024-12-22T07:55:21.987374Z",
          "shell.execute_reply": "2024-12-22T07:55:22.012949Z"
        },
        "id": "Y2IeNP43ZXFq",
        "outputId": "1f476a14-e675-4448-b835-7022ad7be512"
      },
      "outputs": [
        {
          "execution_count": 7,
          "output_type": "execute_result",
          "data": {
            "text/plain": "title            False\npublish_time     False\ntags             False\nviews            False\nlikes            False\ndislikes         False\ncomment_count    False\ndescription      False\ndtype: bool"
          },
          "metadata": {}
        }
      ],
      "execution_count": null
    },
    {
      "cell_type": "code",
      "source": [
        "df[\"publish_time\"] = pd.to_datetime(df[\"publish_time\"])\n",
        "df['publish_day'] = df['publish_time'].dt.day_name()\n",
        "df['publish_hour'] = df['publish_time'].dt.hour"
      ],
      "metadata": {
        "trusted": true,
        "execution": {
          "iopub.status.busy": "2024-12-22T07:55:40.745997Z",
          "iopub.execute_input": "2024-12-22T07:55:40.746329Z",
          "iopub.status.idle": "2024-12-22T07:55:41.098967Z",
          "shell.execute_reply.started": "2024-12-22T07:55:40.746304Z",
          "shell.execute_reply": "2024-12-22T07:55:41.098017Z"
        },
        "id": "9lJs4WrfZXFr"
      },
      "outputs": [],
      "execution_count": null
    },
    {
      "cell_type": "code",
      "source": [
        "df[\"publish_time\"].head()"
      ],
      "metadata": {
        "trusted": true,
        "execution": {
          "iopub.status.busy": "2024-12-22T07:55:44.195218Z",
          "iopub.execute_input": "2024-12-22T07:55:44.195579Z",
          "iopub.status.idle": "2024-12-22T07:55:44.202645Z",
          "shell.execute_reply.started": "2024-12-22T07:55:44.195551Z",
          "shell.execute_reply": "2024-12-22T07:55:44.201650Z"
        },
        "id": "1H3uLnBWZXFs",
        "outputId": "14db2c22-626f-4c4d-e854-692eb7c01448"
      },
      "outputs": [
        {
          "execution_count": 9,
          "output_type": "execute_result",
          "data": {
            "text/plain": "0   2017-11-12 12:20:39+00:00\n1   2017-11-13 05:43:56+00:00\n2   2017-11-12 15:48:08+00:00\n3   2017-11-12 07:08:48+00:00\n4   2017-11-13 01:14:16+00:00\nName: publish_time, dtype: datetime64[ns, UTC]"
          },
          "metadata": {}
        }
      ],
      "execution_count": null
    },
    {
      "cell_type": "code",
      "source": [
        "df.head()"
      ],
      "metadata": {
        "trusted": true,
        "execution": {
          "iopub.status.busy": "2024-12-22T08:03:38.372463Z",
          "iopub.execute_input": "2024-12-22T08:03:38.372876Z",
          "iopub.status.idle": "2024-12-22T08:03:38.391061Z",
          "shell.execute_reply.started": "2024-12-22T08:03:38.372844Z",
          "shell.execute_reply": "2024-12-22T08:03:38.389694Z"
        },
        "id": "KQkN2zk9ZXFt",
        "outputId": "0632b62d-6de5-4c39-9f52-48196b229641"
      },
      "outputs": [
        {
          "execution_count": 10,
          "output_type": "execute_result",
          "data": {
            "text/plain": "                                               title  \\\n0  Sharry Mann: Cute Munda ( Song Teaser) | Parmi...   \n1  पीरियड्स के समय, पेट पर पति करता ऐसा, देखकर दं...   \n2  Stylish Star Allu Arjun @ ChaySam Wedding Rece...   \n3                     Eruma Saani | Tamil vs English   \n4  why Samantha became EMOTIONAL @ Samantha naga ...   \n\n               publish_time  \\\n0 2017-11-12 12:20:39+00:00   \n1 2017-11-13 05:43:56+00:00   \n2 2017-11-12 15:48:08+00:00   \n3 2017-11-12 07:08:48+00:00   \n4 2017-11-13 01:14:16+00:00   \n\n                                                tags    views  likes  \\\n0  sharry mann|\"sharry mann new song\"|\"sharry man...  1096327  33966   \n1  पीरियड्स के समय|\"पेट पर पति करता ऐसा\"|\"देखकर द...   590101    735   \n2  Stylish Star Allu Arjun @ ChaySam Wedding Rece...   473988   2011   \n3  Eruma Saani|\"Tamil Comedy Videos\"|\"Films\"|\"Mov...  1242680  70353   \n4  Filmylooks|\"latest news\"|\"telugu movies\"|\"telu...   464015    492   \n\n   dislikes  comment_count                                        description  \\\n0       798            882  Presenting Sharry Mann latest Punjabi Song  Cu...   \n1       904              0  पीरियड्स के समय, पेट पर पति करता ऐसा, देखकर दं...   \n2       243            149  Watch Stylish Star Allu Arjun @ ChaySam Weddin...   \n3      1624           2684  This video showcases the difference between pe...   \n4       293             66  why Samantha became EMOTIONAL @ Samantha naga ...   \n\n  publish_day  publish_hour  \n0      Sunday            12  \n1      Monday             5  \n2      Sunday            15  \n3      Sunday             7  \n4      Monday             1  ",
            "text/html": "<div>\n<style scoped>\n    .dataframe tbody tr th:only-of-type {\n        vertical-align: middle;\n    }\n\n    .dataframe tbody tr th {\n        vertical-align: top;\n    }\n\n    .dataframe thead th {\n        text-align: right;\n    }\n</style>\n<table border=\"1\" class=\"dataframe\">\n  <thead>\n    <tr style=\"text-align: right;\">\n      <th></th>\n      <th>title</th>\n      <th>publish_time</th>\n      <th>tags</th>\n      <th>views</th>\n      <th>likes</th>\n      <th>dislikes</th>\n      <th>comment_count</th>\n      <th>description</th>\n      <th>publish_day</th>\n      <th>publish_hour</th>\n    </tr>\n  </thead>\n  <tbody>\n    <tr>\n      <th>0</th>\n      <td>Sharry Mann: Cute Munda ( Song Teaser) | Parmi...</td>\n      <td>2017-11-12 12:20:39+00:00</td>\n      <td>sharry mann|\"sharry mann new song\"|\"sharry man...</td>\n      <td>1096327</td>\n      <td>33966</td>\n      <td>798</td>\n      <td>882</td>\n      <td>Presenting Sharry Mann latest Punjabi Song  Cu...</td>\n      <td>Sunday</td>\n      <td>12</td>\n    </tr>\n    <tr>\n      <th>1</th>\n      <td>पीरियड्स के समय, पेट पर पति करता ऐसा, देखकर दं...</td>\n      <td>2017-11-13 05:43:56+00:00</td>\n      <td>पीरियड्स के समय|\"पेट पर पति करता ऐसा\"|\"देखकर द...</td>\n      <td>590101</td>\n      <td>735</td>\n      <td>904</td>\n      <td>0</td>\n      <td>पीरियड्स के समय, पेट पर पति करता ऐसा, देखकर दं...</td>\n      <td>Monday</td>\n      <td>5</td>\n    </tr>\n    <tr>\n      <th>2</th>\n      <td>Stylish Star Allu Arjun @ ChaySam Wedding Rece...</td>\n      <td>2017-11-12 15:48:08+00:00</td>\n      <td>Stylish Star Allu Arjun @ ChaySam Wedding Rece...</td>\n      <td>473988</td>\n      <td>2011</td>\n      <td>243</td>\n      <td>149</td>\n      <td>Watch Stylish Star Allu Arjun @ ChaySam Weddin...</td>\n      <td>Sunday</td>\n      <td>15</td>\n    </tr>\n    <tr>\n      <th>3</th>\n      <td>Eruma Saani | Tamil vs English</td>\n      <td>2017-11-12 07:08:48+00:00</td>\n      <td>Eruma Saani|\"Tamil Comedy Videos\"|\"Films\"|\"Mov...</td>\n      <td>1242680</td>\n      <td>70353</td>\n      <td>1624</td>\n      <td>2684</td>\n      <td>This video showcases the difference between pe...</td>\n      <td>Sunday</td>\n      <td>7</td>\n    </tr>\n    <tr>\n      <th>4</th>\n      <td>why Samantha became EMOTIONAL @ Samantha naga ...</td>\n      <td>2017-11-13 01:14:16+00:00</td>\n      <td>Filmylooks|\"latest news\"|\"telugu movies\"|\"telu...</td>\n      <td>464015</td>\n      <td>492</td>\n      <td>293</td>\n      <td>66</td>\n      <td>why Samantha became EMOTIONAL @ Samantha naga ...</td>\n      <td>Monday</td>\n      <td>1</td>\n    </tr>\n  </tbody>\n</table>\n</div>"
          },
          "metadata": {}
        }
      ],
      "execution_count": null
    },
    {
      "cell_type": "code",
      "source": [
        "df['publish_time'] = pd.to_datetime(df['publish_time'], errors='coerce')\n",
        "df['publish_year'] = df['publish_time'].dt.year\n",
        "df['publish_month'] = df['publish_time'].dt.month\n",
        "df['publish_day'] = df['publish_time'].dt.day\n",
        "df['publish_hour'] = df['publish_time'].dt.hour\n",
        "\n",
        "df.drop(columns=['publish_time'], inplace=True)"
      ],
      "metadata": {
        "trusted": true,
        "execution": {
          "iopub.status.busy": "2024-12-22T08:06:27.818532Z",
          "iopub.execute_input": "2024-12-22T08:06:27.818926Z",
          "iopub.status.idle": "2024-12-22T08:06:27.918906Z",
          "shell.execute_reply.started": "2024-12-22T08:06:27.818899Z",
          "shell.execute_reply": "2024-12-22T08:06:27.917473Z"
        },
        "id": "jkGFxH66ZXFu"
      },
      "outputs": [],
      "execution_count": null
    },
    {
      "cell_type": "code",
      "source": [
        "df.head()"
      ],
      "metadata": {
        "trusted": true,
        "execution": {
          "iopub.status.busy": "2024-12-22T09:34:26.311706Z",
          "iopub.execute_input": "2024-12-22T09:34:26.312192Z",
          "iopub.status.idle": "2024-12-22T09:34:26.329372Z",
          "shell.execute_reply.started": "2024-12-22T09:34:26.312156Z",
          "shell.execute_reply": "2024-12-22T09:34:26.327936Z"
        },
        "colab": {
          "base_uri": "https://localhost:8080/",
          "height": 484
        },
        "id": "s5Q1ahqKZXFu",
        "outputId": "4cbd5def-8b47-4281-e035-370bdec72a1a"
      },
      "outputs": [
        {
          "output_type": "execute_result",
          "data": {
            "text/plain": [
              "                                               title  \\\n",
              "0  sharry mann cute munda song teaser parmish ver...   \n",
              "1  stylish star allu arjun chaysam wedding recept...   \n",
              "2  samantha became emotional samantha naga chaith...   \n",
              "3  mehjabi reveals hina khan dirty politics exclu...   \n",
              "4  jannat full song aatish latest punjabi song 20...   \n",
              "\n",
              "                                                tags    views  likes  \\\n",
              "0  ['sharry mann', 'sharry mann new song', 'sharr...  1096327  33966   \n",
              "1  ['stylish star allu arjun @ chaysam wedding re...   473988   2011   \n",
              "2  ['latest news', 'why samantha became emotional...   464015    492   \n",
              "3  ['bigg boss 11 eviction', 'bigg boss season 11...   632747   4330   \n",
              "4  ['new songs 2017 aatish', 'latest song 2017 aa...  2348107  32834   \n",
              "\n",
              "   dislikes  comment_count                                        description  \\\n",
              "0       798            882  presenting sharry mann latest punjabi song cut...   \n",
              "1       243            149  watch stylish star allu arjun chaysam wedding ...   \n",
              "2       293             66  samantha became emotional samantha naga chaith...   \n",
              "3      2183           2869  mehjabi siddiqui reveals hina khan dirty polit...   \n",
              "4       710           1743  white hill music presentation nproduced gunbir...   \n",
              "\n",
              "   publish_day  publish_hour  publish_year  publish_month  \n",
              "0         12.0          12.0        2017.0           11.0  \n",
              "1         12.0          15.0        2017.0           11.0  \n",
              "2         13.0           1.0        2017.0           11.0  \n",
              "3         12.0          17.0        2017.0           11.0  \n",
              "4         11.0          12.0        2017.0           11.0  "
            ],
            "text/html": [
              "\n",
              "  <div id=\"df-609f79a8-2f5d-45f1-9470-15532c01a341\" class=\"colab-df-container\">\n",
              "    <div>\n",
              "<style scoped>\n",
              "    .dataframe tbody tr th:only-of-type {\n",
              "        vertical-align: middle;\n",
              "    }\n",
              "\n",
              "    .dataframe tbody tr th {\n",
              "        vertical-align: top;\n",
              "    }\n",
              "\n",
              "    .dataframe thead th {\n",
              "        text-align: right;\n",
              "    }\n",
              "</style>\n",
              "<table border=\"1\" class=\"dataframe\">\n",
              "  <thead>\n",
              "    <tr style=\"text-align: right;\">\n",
              "      <th></th>\n",
              "      <th>title</th>\n",
              "      <th>tags</th>\n",
              "      <th>views</th>\n",
              "      <th>likes</th>\n",
              "      <th>dislikes</th>\n",
              "      <th>comment_count</th>\n",
              "      <th>description</th>\n",
              "      <th>publish_day</th>\n",
              "      <th>publish_hour</th>\n",
              "      <th>publish_year</th>\n",
              "      <th>publish_month</th>\n",
              "    </tr>\n",
              "  </thead>\n",
              "  <tbody>\n",
              "    <tr>\n",
              "      <th>0</th>\n",
              "      <td>sharry mann cute munda song teaser parmish ver...</td>\n",
              "      <td>['sharry mann', 'sharry mann new song', 'sharr...</td>\n",
              "      <td>1096327</td>\n",
              "      <td>33966</td>\n",
              "      <td>798</td>\n",
              "      <td>882</td>\n",
              "      <td>presenting sharry mann latest punjabi song cut...</td>\n",
              "      <td>12.0</td>\n",
              "      <td>12.0</td>\n",
              "      <td>2017.0</td>\n",
              "      <td>11.0</td>\n",
              "    </tr>\n",
              "    <tr>\n",
              "      <th>1</th>\n",
              "      <td>stylish star allu arjun chaysam wedding recept...</td>\n",
              "      <td>['stylish star allu arjun @ chaysam wedding re...</td>\n",
              "      <td>473988</td>\n",
              "      <td>2011</td>\n",
              "      <td>243</td>\n",
              "      <td>149</td>\n",
              "      <td>watch stylish star allu arjun chaysam wedding ...</td>\n",
              "      <td>12.0</td>\n",
              "      <td>15.0</td>\n",
              "      <td>2017.0</td>\n",
              "      <td>11.0</td>\n",
              "    </tr>\n",
              "    <tr>\n",
              "      <th>2</th>\n",
              "      <td>samantha became emotional samantha naga chaith...</td>\n",
              "      <td>['latest news', 'why samantha became emotional...</td>\n",
              "      <td>464015</td>\n",
              "      <td>492</td>\n",
              "      <td>293</td>\n",
              "      <td>66</td>\n",
              "      <td>samantha became emotional samantha naga chaith...</td>\n",
              "      <td>13.0</td>\n",
              "      <td>1.0</td>\n",
              "      <td>2017.0</td>\n",
              "      <td>11.0</td>\n",
              "    </tr>\n",
              "    <tr>\n",
              "      <th>3</th>\n",
              "      <td>mehjabi reveals hina khan dirty politics exclu...</td>\n",
              "      <td>['bigg boss 11 eviction', 'bigg boss season 11...</td>\n",
              "      <td>632747</td>\n",
              "      <td>4330</td>\n",
              "      <td>2183</td>\n",
              "      <td>2869</td>\n",
              "      <td>mehjabi siddiqui reveals hina khan dirty polit...</td>\n",
              "      <td>12.0</td>\n",
              "      <td>17.0</td>\n",
              "      <td>2017.0</td>\n",
              "      <td>11.0</td>\n",
              "    </tr>\n",
              "    <tr>\n",
              "      <th>4</th>\n",
              "      <td>jannat full song aatish latest punjabi song 20...</td>\n",
              "      <td>['new songs 2017 aatish', 'latest song 2017 aa...</td>\n",
              "      <td>2348107</td>\n",
              "      <td>32834</td>\n",
              "      <td>710</td>\n",
              "      <td>1743</td>\n",
              "      <td>white hill music presentation nproduced gunbir...</td>\n",
              "      <td>11.0</td>\n",
              "      <td>12.0</td>\n",
              "      <td>2017.0</td>\n",
              "      <td>11.0</td>\n",
              "    </tr>\n",
              "  </tbody>\n",
              "</table>\n",
              "</div>\n",
              "    <div class=\"colab-df-buttons\">\n",
              "\n",
              "  <div class=\"colab-df-container\">\n",
              "    <button class=\"colab-df-convert\" onclick=\"convertToInteractive('df-609f79a8-2f5d-45f1-9470-15532c01a341')\"\n",
              "            title=\"Convert this dataframe to an interactive table.\"\n",
              "            style=\"display:none;\">\n",
              "\n",
              "  <svg xmlns=\"http://www.w3.org/2000/svg\" height=\"24px\" viewBox=\"0 -960 960 960\">\n",
              "    <path d=\"M120-120v-720h720v720H120Zm60-500h600v-160H180v160Zm220 220h160v-160H400v160Zm0 220h160v-160H400v160ZM180-400h160v-160H180v160Zm440 0h160v-160H620v160ZM180-180h160v-160H180v160Zm440 0h160v-160H620v160Z\"/>\n",
              "  </svg>\n",
              "    </button>\n",
              "\n",
              "  <style>\n",
              "    .colab-df-container {\n",
              "      display:flex;\n",
              "      gap: 12px;\n",
              "    }\n",
              "\n",
              "    .colab-df-convert {\n",
              "      background-color: #E8F0FE;\n",
              "      border: none;\n",
              "      border-radius: 50%;\n",
              "      cursor: pointer;\n",
              "      display: none;\n",
              "      fill: #1967D2;\n",
              "      height: 32px;\n",
              "      padding: 0 0 0 0;\n",
              "      width: 32px;\n",
              "    }\n",
              "\n",
              "    .colab-df-convert:hover {\n",
              "      background-color: #E2EBFA;\n",
              "      box-shadow: 0px 1px 2px rgba(60, 64, 67, 0.3), 0px 1px 3px 1px rgba(60, 64, 67, 0.15);\n",
              "      fill: #174EA6;\n",
              "    }\n",
              "\n",
              "    .colab-df-buttons div {\n",
              "      margin-bottom: 4px;\n",
              "    }\n",
              "\n",
              "    [theme=dark] .colab-df-convert {\n",
              "      background-color: #3B4455;\n",
              "      fill: #D2E3FC;\n",
              "    }\n",
              "\n",
              "    [theme=dark] .colab-df-convert:hover {\n",
              "      background-color: #434B5C;\n",
              "      box-shadow: 0px 1px 3px 1px rgba(0, 0, 0, 0.15);\n",
              "      filter: drop-shadow(0px 1px 2px rgba(0, 0, 0, 0.3));\n",
              "      fill: #FFFFFF;\n",
              "    }\n",
              "  </style>\n",
              "\n",
              "    <script>\n",
              "      const buttonEl =\n",
              "        document.querySelector('#df-609f79a8-2f5d-45f1-9470-15532c01a341 button.colab-df-convert');\n",
              "      buttonEl.style.display =\n",
              "        google.colab.kernel.accessAllowed ? 'block' : 'none';\n",
              "\n",
              "      async function convertToInteractive(key) {\n",
              "        const element = document.querySelector('#df-609f79a8-2f5d-45f1-9470-15532c01a341');\n",
              "        const dataTable =\n",
              "          await google.colab.kernel.invokeFunction('convertToInteractive',\n",
              "                                                    [key], {});\n",
              "        if (!dataTable) return;\n",
              "\n",
              "        const docLinkHtml = 'Like what you see? Visit the ' +\n",
              "          '<a target=\"_blank\" href=https://colab.research.google.com/notebooks/data_table.ipynb>data table notebook</a>'\n",
              "          + ' to learn more about interactive tables.';\n",
              "        element.innerHTML = '';\n",
              "        dataTable['output_type'] = 'display_data';\n",
              "        await google.colab.output.renderOutput(dataTable, element);\n",
              "        const docLink = document.createElement('div');\n",
              "        docLink.innerHTML = docLinkHtml;\n",
              "        element.appendChild(docLink);\n",
              "      }\n",
              "    </script>\n",
              "  </div>\n",
              "\n",
              "\n",
              "<div id=\"df-7484178f-1442-4c84-ba48-4a4148acb13e\">\n",
              "  <button class=\"colab-df-quickchart\" onclick=\"quickchart('df-7484178f-1442-4c84-ba48-4a4148acb13e')\"\n",
              "            title=\"Suggest charts\"\n",
              "            style=\"display:none;\">\n",
              "\n",
              "<svg xmlns=\"http://www.w3.org/2000/svg\" height=\"24px\"viewBox=\"0 0 24 24\"\n",
              "     width=\"24px\">\n",
              "    <g>\n",
              "        <path d=\"M19 3H5c-1.1 0-2 .9-2 2v14c0 1.1.9 2 2 2h14c1.1 0 2-.9 2-2V5c0-1.1-.9-2-2-2zM9 17H7v-7h2v7zm4 0h-2V7h2v10zm4 0h-2v-4h2v4z\"/>\n",
              "    </g>\n",
              "</svg>\n",
              "  </button>\n",
              "\n",
              "<style>\n",
              "  .colab-df-quickchart {\n",
              "      --bg-color: #E8F0FE;\n",
              "      --fill-color: #1967D2;\n",
              "      --hover-bg-color: #E2EBFA;\n",
              "      --hover-fill-color: #174EA6;\n",
              "      --disabled-fill-color: #AAA;\n",
              "      --disabled-bg-color: #DDD;\n",
              "  }\n",
              "\n",
              "  [theme=dark] .colab-df-quickchart {\n",
              "      --bg-color: #3B4455;\n",
              "      --fill-color: #D2E3FC;\n",
              "      --hover-bg-color: #434B5C;\n",
              "      --hover-fill-color: #FFFFFF;\n",
              "      --disabled-bg-color: #3B4455;\n",
              "      --disabled-fill-color: #666;\n",
              "  }\n",
              "\n",
              "  .colab-df-quickchart {\n",
              "    background-color: var(--bg-color);\n",
              "    border: none;\n",
              "    border-radius: 50%;\n",
              "    cursor: pointer;\n",
              "    display: none;\n",
              "    fill: var(--fill-color);\n",
              "    height: 32px;\n",
              "    padding: 0;\n",
              "    width: 32px;\n",
              "  }\n",
              "\n",
              "  .colab-df-quickchart:hover {\n",
              "    background-color: var(--hover-bg-color);\n",
              "    box-shadow: 0 1px 2px rgba(60, 64, 67, 0.3), 0 1px 3px 1px rgba(60, 64, 67, 0.15);\n",
              "    fill: var(--button-hover-fill-color);\n",
              "  }\n",
              "\n",
              "  .colab-df-quickchart-complete:disabled,\n",
              "  .colab-df-quickchart-complete:disabled:hover {\n",
              "    background-color: var(--disabled-bg-color);\n",
              "    fill: var(--disabled-fill-color);\n",
              "    box-shadow: none;\n",
              "  }\n",
              "\n",
              "  .colab-df-spinner {\n",
              "    border: 2px solid var(--fill-color);\n",
              "    border-color: transparent;\n",
              "    border-bottom-color: var(--fill-color);\n",
              "    animation:\n",
              "      spin 1s steps(1) infinite;\n",
              "  }\n",
              "\n",
              "  @keyframes spin {\n",
              "    0% {\n",
              "      border-color: transparent;\n",
              "      border-bottom-color: var(--fill-color);\n",
              "      border-left-color: var(--fill-color);\n",
              "    }\n",
              "    20% {\n",
              "      border-color: transparent;\n",
              "      border-left-color: var(--fill-color);\n",
              "      border-top-color: var(--fill-color);\n",
              "    }\n",
              "    30% {\n",
              "      border-color: transparent;\n",
              "      border-left-color: var(--fill-color);\n",
              "      border-top-color: var(--fill-color);\n",
              "      border-right-color: var(--fill-color);\n",
              "    }\n",
              "    40% {\n",
              "      border-color: transparent;\n",
              "      border-right-color: var(--fill-color);\n",
              "      border-top-color: var(--fill-color);\n",
              "    }\n",
              "    60% {\n",
              "      border-color: transparent;\n",
              "      border-right-color: var(--fill-color);\n",
              "    }\n",
              "    80% {\n",
              "      border-color: transparent;\n",
              "      border-right-color: var(--fill-color);\n",
              "      border-bottom-color: var(--fill-color);\n",
              "    }\n",
              "    90% {\n",
              "      border-color: transparent;\n",
              "      border-bottom-color: var(--fill-color);\n",
              "    }\n",
              "  }\n",
              "</style>\n",
              "\n",
              "  <script>\n",
              "    async function quickchart(key) {\n",
              "      const quickchartButtonEl =\n",
              "        document.querySelector('#' + key + ' button');\n",
              "      quickchartButtonEl.disabled = true;  // To prevent multiple clicks.\n",
              "      quickchartButtonEl.classList.add('colab-df-spinner');\n",
              "      try {\n",
              "        const charts = await google.colab.kernel.invokeFunction(\n",
              "            'suggestCharts', [key], {});\n",
              "      } catch (error) {\n",
              "        console.error('Error during call to suggestCharts:', error);\n",
              "      }\n",
              "      quickchartButtonEl.classList.remove('colab-df-spinner');\n",
              "      quickchartButtonEl.classList.add('colab-df-quickchart-complete');\n",
              "    }\n",
              "    (() => {\n",
              "      let quickchartButtonEl =\n",
              "        document.querySelector('#df-7484178f-1442-4c84-ba48-4a4148acb13e button');\n",
              "      quickchartButtonEl.style.display =\n",
              "        google.colab.kernel.accessAllowed ? 'block' : 'none';\n",
              "    })();\n",
              "  </script>\n",
              "</div>\n",
              "\n",
              "    </div>\n",
              "  </div>\n"
            ],
            "application/vnd.google.colaboratory.intrinsic+json": {
              "type": "dataframe",
              "variable_name": "df",
              "summary": "{\n  \"name\": \"df\",\n  \"rows\": 13177,\n  \"fields\": [\n    {\n      \"column\": \"title\",\n      \"properties\": {\n        \"dtype\": \"category\",\n        \"num_unique_values\": 5881,\n        \"samples\": [\n          \"savage moms mothers day jordindian\",\n          \"sembarathi tamil serial best scene episode 147 09 may 2018\",\n          \"flash 4x07 extended promo therefore hd season 4 episode 7 extended promo\"\n        ],\n        \"semantic_type\": \"\",\n        \"description\": \"\"\n      }\n    },\n    {\n      \"column\": \"tags\",\n      \"properties\": {\n        \"dtype\": \"category\",\n        \"num_unique_values\": 4191,\n        \"samples\": [\n          \"['thanthi', 'chennai super kings', 'csk chennai', 'ipl champions 2018', 'shane watson', 'whistle podu', 'whistle podu army', 'csk players', 'ipl trophy', 'csk arrival in chennai', 'csk celebrations']\",\n          \"['tv9 rajinikanth funny satire on rgv about his bald head']\",\n          \"['world government summit']\"\n        ],\n        \"semantic_type\": \"\",\n        \"description\": \"\"\n      }\n    },\n    {\n      \"column\": \"views\",\n      \"properties\": {\n        \"dtype\": \"number\",\n        \"std\": 4229740,\n        \"min\": 4287,\n        \"max\": 125432237,\n        \"num_unique_values\": 11581,\n        \"samples\": [\n          1289296,\n          785866,\n          55261\n        ],\n        \"semantic_type\": \"\",\n        \"description\": \"\"\n      }\n    },\n    {\n      \"column\": \"likes\",\n      \"properties\": {\n        \"dtype\": \"number\",\n        \"std\": 129629,\n        \"min\": 0,\n        \"max\": 2912710,\n        \"num_unique_values\": 8283,\n        \"samples\": [\n          2873,\n          4701,\n          8159\n        ],\n        \"semantic_type\": \"\",\n        \"description\": \"\"\n      }\n    },\n    {\n      \"column\": \"dislikes\",\n      \"properties\": {\n        \"dtype\": \"number\",\n        \"std\": 26421,\n        \"min\": 0,\n        \"max\": 1545017,\n        \"num_unique_values\": 3280,\n        \"samples\": [\n          1105,\n          1526,\n          912\n        ],\n        \"semantic_type\": \"\",\n        \"description\": \"\"\n      }\n    },\n    {\n      \"column\": \"comment_count\",\n      \"properties\": {\n        \"dtype\": \"number\",\n        \"std\": 21549,\n        \"min\": 0,\n        \"max\": 827755,\n        \"num_unique_values\": 3961,\n        \"samples\": [\n          176,\n          423,\n          109\n        ],\n        \"semantic_type\": \"\",\n        \"description\": \"\"\n      }\n    },\n    {\n      \"column\": \"description\",\n      \"properties\": {\n        \"dtype\": \"category\",\n        \"num_unique_values\": 5138,\n        \"samples\": [\n          \"visionary filmmakers james cameron robert rodriguez n alita battle angel theaters july 20 2018 n ndirected robert rodriguez n nscreenplay james cameron laeta kalogridis robert rodriguez n nbased graphic novel manga series gunnm yukito kishiro n nproduced james cameron jon landau n ncast rosa salazar christoph waltz jennifer connelly mahershala ali ed skrein jackie earle haley keean johnson n nsubscribe alita battle angel online nvisit official site alita battle angel facebook alita battle angel twitter alita battle angel instagram 20th century fox nofficial youtube channel 20th century fox movies home avatar aliens x men die hard deadpool ice age alvin chipmunks rio peanuts maze runner planet apes wolverine many n nconnect 20th century fox online nvisit 20th century fox website 20th century fox facebook 20th century fox twitter battle angel official trailer hd 20th century fox n\",\n          \"watch official trailer annihilation starring natalie portman jennifer jason leigh gina rodriguez tessa thompson tuva novotny oscar isaac theatres 2 23 18 n nfacebook annihilation n nbased jeff vandermeer best selling southern reach trilogy annihilation stars natalie portman jennifer jason leigh gina rodriguez tessa thompson tuva novotny oscar isaac written directed alex garland ex machina 28 days later n nparamount pictures corporation ppc major global producer distributor filmed entertainment unit viacom nasdaq viab via home premier global media brands create compelling television programs motion pictures short form content apps games consumer products social media experiences entertainment content audiences 180 countries n nconnect paramount pictures online n nofficial site\",\n          \"sri reddy trapped suresh babu son abhiram karate kalyani tollywood casting couch n n download tv9 android app circle us g like us fb follow us twitter pin us pinterest\"\n        ],\n        \"semantic_type\": \"\",\n        \"description\": \"\"\n      }\n    },\n    {\n      \"column\": \"publish_day\",\n      \"properties\": {\n        \"dtype\": \"number\",\n        \"std\": 8.730188641260192,\n        \"min\": 1.0,\n        \"max\": 31.0,\n        \"num_unique_values\": 31,\n        \"samples\": [\n          5.0,\n          23.0,\n          1.0\n        ],\n        \"semantic_type\": \"\",\n        \"description\": \"\"\n      }\n    },\n    {\n      \"column\": \"publish_hour\",\n      \"properties\": {\n        \"dtype\": \"number\",\n        \"std\": 5.002342977139473,\n        \"min\": 0.0,\n        \"max\": 23.0,\n        \"num_unique_values\": 24,\n        \"samples\": [\n          20.0,\n          5.0,\n          12.0\n        ],\n        \"semantic_type\": \"\",\n        \"description\": \"\"\n      }\n    },\n    {\n      \"column\": \"publish_year\",\n      \"properties\": {\n        \"dtype\": \"number\",\n        \"std\": 0.4412836541768861,\n        \"min\": 2017.0,\n        \"max\": 2018.0,\n        \"num_unique_values\": 2,\n        \"samples\": [\n          2018.0,\n          2017.0\n        ],\n        \"semantic_type\": \"\",\n        \"description\": \"\"\n      }\n    },\n    {\n      \"column\": \"publish_month\",\n      \"properties\": {\n        \"dtype\": \"number\",\n        \"std\": 3.966819066028004,\n        \"min\": 1.0,\n        \"max\": 12.0,\n        \"num_unique_values\": 8,\n        \"samples\": [\n          12.0,\n          4.0\n        ],\n        \"semantic_type\": \"\",\n        \"description\": \"\"\n      }\n    }\n  ]\n}"
            }
          },
          "metadata": {},
          "execution_count": 4
        }
      ],
      "execution_count": 4
    },
    {
      "cell_type": "code",
      "source": [
        "import re\n",
        "import nltk\n",
        "from nltk.tokenize import word_tokenize\n",
        "from nltk.corpus import stopwords\n",
        "\n",
        "nltk.download('stopwords')\n",
        "nltk.download('punkt')\n",
        "nltk.download('punkt_tab')\n",
        "\n",
        "\n",
        "def preprocess_text(text):\n",
        "    text = text.lower()\n",
        "    text = re.sub(r'http\\S+|www\\S+|https\\S+', '', text, flags=re.MULTILINE)\n",
        "    text = re.sub(r'\\W', ' ', text)\n",
        "    tokens = word_tokenize(text)\n",
        "    filtered_tokens = [word for word in tokens if\n",
        "                       word not in stopwords.words('english')]\n",
        "    return ' '.join(filtered_tokens)"
      ],
      "metadata": {
        "trusted": true,
        "execution": {
          "iopub.status.busy": "2024-12-22T09:45:51.226042Z",
          "iopub.execute_input": "2024-12-22T09:45:51.226506Z",
          "iopub.status.idle": "2024-12-22T09:45:51.233644Z",
          "shell.execute_reply.started": "2024-12-22T09:45:51.226472Z",
          "shell.execute_reply": "2024-12-22T09:45:51.232029Z"
        },
        "colab": {
          "base_uri": "https://localhost:8080/"
        },
        "id": "PCLLArJXZXFv",
        "outputId": "c76f361d-0555-43fe-ffbd-cbb7b13eabfa"
      },
      "outputs": [
        {
          "output_type": "stream",
          "name": "stderr",
          "text": [
            "[nltk_data] Downloading package stopwords to /root/nltk_data...\n",
            "[nltk_data]   Unzipping corpora/stopwords.zip.\n",
            "[nltk_data] Downloading package punkt to /root/nltk_data...\n",
            "[nltk_data]   Unzipping tokenizers/punkt.zip.\n",
            "[nltk_data] Downloading package punkt_tab to /root/nltk_data...\n",
            "[nltk_data]   Unzipping tokenizers/punkt_tab.zip.\n"
          ]
        }
      ],
      "execution_count": 13
    },
    {
      "cell_type": "code",
      "source": [
        "df['title'] = df['title'].apply(preprocess_text)\n",
        "df['description'] = df['description'].apply(preprocess_text)"
      ],
      "metadata": {
        "trusted": true,
        "execution": {
          "iopub.status.busy": "2024-12-22T09:45:58.286215Z",
          "iopub.execute_input": "2024-12-22T09:45:58.286750Z",
          "iopub.status.idle": "2024-12-22T10:05:22.574335Z",
          "shell.execute_reply.started": "2024-12-22T09:45:58.286703Z",
          "shell.execute_reply": "2024-12-22T10:05:22.573218Z"
        },
        "id": "uu1Lbyk5ZXFv"
      },
      "outputs": [],
      "execution_count": null
    },
    {
      "cell_type": "code",
      "source": [
        "display(df['title'].head(),df['description'].head())"
      ],
      "metadata": {
        "trusted": true,
        "execution": {
          "iopub.status.busy": "2024-12-22T10:06:27.936951Z",
          "iopub.execute_input": "2024-12-22T10:06:27.937461Z",
          "iopub.status.idle": "2024-12-22T10:06:27.949358Z",
          "shell.execute_reply.started": "2024-12-22T10:06:27.937397Z",
          "shell.execute_reply": "2024-12-22T10:06:27.947959Z"
        },
        "id": "aLts_6VgZXFw",
        "outputId": "a34ee8f7-ada4-4b12-ac6f-f563cd8061e2"
      },
      "outputs": [
        {
          "output_type": "display_data",
          "data": {
            "text/plain": "0    sharry mann cute munda song teaser parmish ver...\n1    प र यड स क समय प ट पर पत करत ऐस द खकर द ग रह ज...\n2    stylish star allu arjun chaysam wedding recept...\n3                         eruma saani tamil vs english\n4    samantha became emotional samantha naga chaith...\nName: title, dtype: object"
          },
          "metadata": {}
        },
        {
          "output_type": "display_data",
          "data": {
            "text/plain": "0    presenting sharry mann latest punjabi song cut...\n1    प र यड स क समय प ट पर पत करत ऐस द खकर द ग रह ज...\n2    watch stylish star allu arjun chaysam wedding ...\n3    video showcases difference people speak englis...\n4    samantha became emotional samantha naga chaith...\nName: description, dtype: object"
          },
          "metadata": {}
        }
      ],
      "execution_count": null
    },
    {
      "cell_type": "code",
      "source": [
        "df[\"title\"][1]"
      ],
      "metadata": {
        "trusted": true,
        "execution": {
          "iopub.status.busy": "2024-12-22T10:06:40.394176Z",
          "iopub.execute_input": "2024-12-22T10:06:40.394577Z",
          "iopub.status.idle": "2024-12-22T10:06:40.401319Z",
          "shell.execute_reply.started": "2024-12-22T10:06:40.394546Z",
          "shell.execute_reply": "2024-12-22T10:06:40.400058Z"
        },
        "id": "jbXUfBpuZXFw",
        "outputId": "61d5f209-2274-414e-b374-b16deec7a651"
      },
      "outputs": [
        {
          "execution_count": 26,
          "output_type": "execute_result",
          "data": {
            "text/plain": "'प र यड स क समय प ट पर पत करत ऐस द खकर द ग रह ज य ग'"
          },
          "metadata": {}
        }
      ],
      "execution_count": null
    },
    {
      "cell_type": "code",
      "source": [
        "!pip install langdetect"
      ],
      "metadata": {
        "trusted": true,
        "colab": {
          "base_uri": "https://localhost:8080/"
        },
        "id": "hGJcDv_tZXFx",
        "outputId": "e81db215-747c-4486-fad9-6825b84a517e"
      },
      "outputs": [
        {
          "output_type": "stream",
          "name": "stdout",
          "text": [
            "Collecting langdetect\n",
            "  Using cached langdetect-1.0.9-py3-none-any.whl\n",
            "Requirement already satisfied: six in /usr/local/lib/python3.10/dist-packages (from langdetect) (1.17.0)\n",
            "Installing collected packages: langdetect\n",
            "Successfully installed langdetect-1.0.9\n"
          ]
        }
      ],
      "execution_count": 7
    },
    {
      "cell_type": "code",
      "source": [
        "from langdetect import detect, DetectorFactory\n",
        "from langdetect.lang_detect_exception import LangDetectException\n",
        "\n",
        "DetectorFactory.seed = 0\n",
        "\n",
        "def detect_language(text):\n",
        "    try:\n",
        "        return detect(text)\n",
        "    except LangDetectException:\n",
        "        return False"
      ],
      "metadata": {
        "trusted": true,
        "execution": {
          "iopub.status.busy": "2024-12-22T10:06:43.068854Z",
          "iopub.execute_input": "2024-12-22T10:06:43.069292Z",
          "iopub.status.idle": "2024-12-22T10:06:43.095986Z",
          "shell.execute_reply.started": "2024-12-22T10:06:43.069256Z",
          "shell.execute_reply": "2024-12-22T10:06:43.094446Z"
        },
        "id": "B_ouUZvKZXFx"
      },
      "outputs": [],
      "execution_count": 14
    },
    {
      "cell_type": "code",
      "source": [
        "df = df[df[\"title\"].apply(lambda x: detect_language(x) == \"en\") & df[\"description\"].apply(lambda x: detect_language(x) == \"en\")]"
      ],
      "metadata": {
        "id": "3qzjrtE3aIwj"
      },
      "execution_count": null,
      "outputs": []
    },
    {
      "cell_type": "code",
      "source": [
        "!pip install unidecode"
      ],
      "metadata": {
        "colab": {
          "base_uri": "https://localhost:8080/"
        },
        "id": "f92tvWsVcXnh",
        "outputId": "d02a068d-6ee0-4504-c21f-334f1f9b8191"
      },
      "execution_count": 16,
      "outputs": [
        {
          "output_type": "stream",
          "name": "stdout",
          "text": [
            "Collecting unidecode\n",
            "  Using cached Unidecode-1.3.8-py3-none-any.whl.metadata (13 kB)\n",
            "Using cached Unidecode-1.3.8-py3-none-any.whl (235 kB)\n",
            "Installing collected packages: unidecode\n",
            "Successfully installed unidecode-1.3.8\n"
          ]
        }
      ]
    },
    {
      "cell_type": "code",
      "source": [
        "from langdetect import detect, LangDetectException\n",
        "from unidecode import unidecode\n",
        "\n",
        "def preprocess_tags(tags):\n",
        "    if pd.isna(tags) or tags.lower() == '[none]':\n",
        "        return []\n",
        "    try:\n",
        "        tags_list = tags.split('|')\n",
        "        cleaned_tags = [unidecode(tag.strip().strip('\"')).lower() for tag in tags_list]\n",
        "        english_tags = [tag for tag in cleaned_tags if detect_language(tag) == 'en']\n",
        "        return english_tags\n",
        "    except LangDetectException:\n",
        "        return []"
      ],
      "metadata": {
        "trusted": true,
        "id": "G4abhk70ZXFy"
      },
      "outputs": [],
      "execution_count": 17
    },
    {
      "cell_type": "code",
      "source": [
        "df[\"tags\"] = df[\"tags\"].apply(preprocess_tags)"
      ],
      "metadata": {
        "trusted": true,
        "id": "_X1mbYn6ZXFy"
      },
      "outputs": [],
      "execution_count": null
    },
    {
      "cell_type": "code",
      "source": [
        "def preprocess_new_data(new_data):\n",
        "    # Convert 'trending_date' to datetime and extract features\n",
        "    new_data['trending_date'] = pd.to_datetime(new_data['trending_date'], format='%y.%d.%m', errors='coerce')\n",
        "    new_data['trending_year'] = new_data['trending_date'].dt.year\n",
        "    new_data['trending_month'] = new_data['trending_date'].dt.month\n",
        "    new_data['trending_day'] = new_data['trending_date'].dt.day\n",
        "    new_data.drop(columns=['trending_date'], inplace=True)\n",
        "\n",
        "    # Convert 'publish_time' to datetime and extract features\n",
        "    new_data['publish_time'] = pd.to_datetime(new_data['publish_time'], errors='coerce')\n",
        "    new_data['publish_year'] = new_data['publish_time'].dt.year\n",
        "    new_data['publish_month'] = new_data['publish_time'].dt.month\n",
        "    new_data['publish_day'] = new_data['publish_time'].dt.day\n",
        "    new_data['publish_hour'] = new_data['publish_time'].dt.hour\n",
        "    new_data.drop(columns=['publish_time'], inplace=True)\n",
        "\n",
        "    # Ensure the columns match the training data format\n",
        "    new_data = new_data.reindex(columns=X_train.columns, fill_value=0)\n",
        "\n",
        "    return new_data"
      ],
      "metadata": {
        "trusted": true,
        "id": "gvmk1m0FZXFy"
      },
      "outputs": [],
      "execution_count": null
    },
    {
      "cell_type": "code",
      "source": [
        "df = pd.read_csv(\"preprocessed_videos_data2.csv\")"
      ],
      "metadata": {
        "id": "XYFxJMizemYl"
      },
      "execution_count": 16,
      "outputs": []
    },
    {
      "cell_type": "code",
      "source": [
        "from sklearn.feature_extraction.text import TfidfVectorizer\n",
        "\n",
        "vectorizer = TfidfVectorizer(max_features=1000)\n",
        "title_tfidf = vectorizer.fit_transform(df['title']).toarray()\n",
        "description_tfidf = vectorizer.fit_transform(df['description']).toarray()"
      ],
      "metadata": {
        "trusted": true,
        "execution": {
          "iopub.status.busy": "2024-12-26T12:46:05.517182Z",
          "iopub.execute_input": "2024-12-26T12:46:05.517516Z",
          "iopub.status.idle": "2024-12-26T12:46:10.440149Z",
          "shell.execute_reply.started": "2024-12-26T12:46:05.517492Z",
          "shell.execute_reply": "2024-12-26T12:46:10.439125Z"
        },
        "id": "EJ2Rqv4CZXFy"
      },
      "outputs": [],
      "execution_count": 17
    },
    {
      "cell_type": "code",
      "source": [
        "print(df[\"title\"][0])\n",
        "title_tfidf[0]"
      ],
      "metadata": {
        "trusted": true,
        "execution": {
          "iopub.status.busy": "2024-12-26T12:46:15.109544Z",
          "iopub.execute_input": "2024-12-26T12:46:15.110057Z",
          "iopub.status.idle": "2024-12-26T12:46:15.123146Z",
          "shell.execute_reply.started": "2024-12-26T12:46:15.110022Z",
          "shell.execute_reply": "2024-12-26T12:46:15.122329Z"
        },
        "collapsed": true,
        "jupyter": {
          "outputs_hidden": true
        },
        "colab": {
          "base_uri": "https://localhost:8080/"
        },
        "id": "tO8sfaTVZXFz",
        "outputId": "e5761def-457a-4c1a-9a9c-ae922ab2a4ca"
      },
      "outputs": [
        {
          "output_type": "stream",
          "name": "stdout",
          "text": [
            "sharry mann cute munda song teaser parmish verma releasing 17 november\n"
          ]
        },
        {
          "output_type": "execute_result",
          "data": {
            "text/plain": [
              "array([0.        , 0.        , 0.        , 0.        , 0.        ,\n",
              "       0.        , 0.        , 0.        , 0.        , 0.        ,\n",
              "       0.        , 0.        , 0.        , 0.        , 0.        ,\n",
              "       0.39680886, 0.        , 0.        , 0.        , 0.        ,\n",
              "       0.        , 0.        , 0.        , 0.        , 0.        ,\n",
              "       0.        , 0.        , 0.        , 0.        , 0.        ,\n",
              "       0.        , 0.        , 0.        , 0.        , 0.        ,\n",
              "       0.        , 0.        , 0.        , 0.        , 0.        ,\n",
              "       0.        , 0.        , 0.        , 0.        , 0.        ,\n",
              "       0.        , 0.        , 0.        , 0.        , 0.        ,\n",
              "       0.        , 0.        , 0.        , 0.        , 0.        ,\n",
              "       0.        , 0.        , 0.        , 0.        , 0.        ,\n",
              "       0.        , 0.        , 0.        , 0.        , 0.        ,\n",
              "       0.        , 0.        , 0.        , 0.        , 0.        ,\n",
              "       0.        , 0.        , 0.        , 0.        , 0.        ,\n",
              "       0.        , 0.        , 0.        , 0.        , 0.        ,\n",
              "       0.        , 0.        , 0.        , 0.        , 0.        ,\n",
              "       0.        , 0.        , 0.        , 0.        , 0.        ,\n",
              "       0.        , 0.        , 0.        , 0.        , 0.        ,\n",
              "       0.        , 0.        , 0.        , 0.        , 0.        ,\n",
              "       0.        , 0.        , 0.        , 0.        , 0.        ,\n",
              "       0.        , 0.        , 0.        , 0.        , 0.        ,\n",
              "       0.        , 0.        , 0.        , 0.        , 0.        ,\n",
              "       0.        , 0.        , 0.        , 0.        , 0.        ,\n",
              "       0.        , 0.        , 0.        , 0.        , 0.        ,\n",
              "       0.        , 0.        , 0.        , 0.        , 0.        ,\n",
              "       0.        , 0.        , 0.        , 0.        , 0.        ,\n",
              "       0.        , 0.        , 0.        , 0.        , 0.        ,\n",
              "       0.        , 0.        , 0.        , 0.        , 0.        ,\n",
              "       0.        , 0.        , 0.        , 0.        , 0.        ,\n",
              "       0.        , 0.        , 0.        , 0.        , 0.        ,\n",
              "       0.        , 0.        , 0.        , 0.        , 0.        ,\n",
              "       0.        , 0.        , 0.        , 0.        , 0.        ,\n",
              "       0.        , 0.        , 0.        , 0.        , 0.        ,\n",
              "       0.        , 0.        , 0.        , 0.        , 0.        ,\n",
              "       0.        , 0.        , 0.        , 0.        , 0.        ,\n",
              "       0.        , 0.        , 0.        , 0.        , 0.        ,\n",
              "       0.        , 0.        , 0.        , 0.        , 0.        ,\n",
              "       0.        , 0.        , 0.        , 0.        , 0.        ,\n",
              "       0.        , 0.        , 0.        , 0.        , 0.        ,\n",
              "       0.        , 0.        , 0.        , 0.        , 0.        ,\n",
              "       0.        , 0.        , 0.        , 0.        , 0.        ,\n",
              "       0.        , 0.        , 0.        , 0.        , 0.        ,\n",
              "       0.        , 0.        , 0.        , 0.        , 0.        ,\n",
              "       0.        , 0.        , 0.        , 0.        , 0.        ,\n",
              "       0.        , 0.        , 0.        , 0.        , 0.        ,\n",
              "       0.        , 0.        , 0.        , 0.        , 0.        ,\n",
              "       0.        , 0.        , 0.        , 0.        , 0.        ,\n",
              "       0.        , 0.        , 0.        , 0.        , 0.        ,\n",
              "       0.        , 0.        , 0.        , 0.        , 0.        ,\n",
              "       0.        , 0.        , 0.        , 0.        , 0.        ,\n",
              "       0.        , 0.        , 0.        , 0.        , 0.        ,\n",
              "       0.        , 0.        , 0.        , 0.        , 0.        ,\n",
              "       0.        , 0.        , 0.        , 0.        , 0.        ,\n",
              "       0.        , 0.        , 0.        , 0.        , 0.        ,\n",
              "       0.        , 0.        , 0.        , 0.        , 0.        ,\n",
              "       0.        , 0.        , 0.        , 0.        , 0.        ,\n",
              "       0.        , 0.        , 0.        , 0.        , 0.        ,\n",
              "       0.        , 0.        , 0.        , 0.        , 0.        ,\n",
              "       0.        , 0.        , 0.        , 0.        , 0.        ,\n",
              "       0.        , 0.        , 0.        , 0.        , 0.        ,\n",
              "       0.        , 0.        , 0.        , 0.        , 0.        ,\n",
              "       0.        , 0.        , 0.        , 0.        , 0.        ,\n",
              "       0.        , 0.        , 0.        , 0.        , 0.        ,\n",
              "       0.        , 0.        , 0.        , 0.        , 0.        ,\n",
              "       0.        , 0.        , 0.        , 0.        , 0.        ,\n",
              "       0.        , 0.        , 0.        , 0.        , 0.        ,\n",
              "       0.        , 0.        , 0.        , 0.        , 0.        ,\n",
              "       0.        , 0.        , 0.        , 0.        , 0.        ,\n",
              "       0.        , 0.        , 0.        , 0.        , 0.        ,\n",
              "       0.        , 0.        , 0.        , 0.        , 0.        ,\n",
              "       0.        , 0.        , 0.        , 0.        , 0.        ,\n",
              "       0.        , 0.        , 0.        , 0.        , 0.        ,\n",
              "       0.        , 0.        , 0.        , 0.        , 0.        ,\n",
              "       0.        , 0.        , 0.        , 0.        , 0.        ,\n",
              "       0.        , 0.        , 0.        , 0.        , 0.        ,\n",
              "       0.        , 0.        , 0.        , 0.        , 0.        ,\n",
              "       0.        , 0.        , 0.        , 0.        , 0.        ,\n",
              "       0.        , 0.        , 0.        , 0.        , 0.        ,\n",
              "       0.        , 0.        , 0.        , 0.        , 0.        ,\n",
              "       0.        , 0.        , 0.        , 0.        , 0.        ,\n",
              "       0.        , 0.        , 0.        , 0.        , 0.        ,\n",
              "       0.        , 0.        , 0.        , 0.        , 0.        ,\n",
              "       0.        , 0.        , 0.        , 0.        , 0.        ,\n",
              "       0.        , 0.        , 0.        , 0.        , 0.        ,\n",
              "       0.        , 0.        , 0.        , 0.        , 0.        ,\n",
              "       0.        , 0.        , 0.        , 0.        , 0.        ,\n",
              "       0.        , 0.        , 0.        , 0.        , 0.        ,\n",
              "       0.        , 0.        , 0.        , 0.        , 0.        ,\n",
              "       0.        , 0.        , 0.        , 0.        , 0.        ,\n",
              "       0.        , 0.        , 0.        , 0.        , 0.        ,\n",
              "       0.        , 0.        , 0.        , 0.        , 0.        ,\n",
              "       0.        , 0.        , 0.        , 0.        , 0.        ,\n",
              "       0.        , 0.        , 0.        , 0.        , 0.        ,\n",
              "       0.        , 0.        , 0.        , 0.        , 0.        ,\n",
              "       0.        , 0.        , 0.        , 0.        , 0.        ,\n",
              "       0.        , 0.        , 0.        , 0.        , 0.        ,\n",
              "       0.        , 0.        , 0.        , 0.        , 0.        ,\n",
              "       0.        , 0.        , 0.        , 0.        , 0.        ,\n",
              "       0.        , 0.        , 0.        , 0.        , 0.        ,\n",
              "       0.        , 0.        , 0.        , 0.        , 0.        ,\n",
              "       0.        , 0.        , 0.        , 0.        , 0.        ,\n",
              "       0.        , 0.        , 0.        , 0.        , 0.        ,\n",
              "       0.        , 0.        , 0.        , 0.        , 0.        ,\n",
              "       0.        , 0.        , 0.        , 0.        , 0.        ,\n",
              "       0.        , 0.        , 0.        , 0.        , 0.        ,\n",
              "       0.        , 0.        , 0.        , 0.        , 0.        ,\n",
              "       0.        , 0.        , 0.        , 0.        , 0.        ,\n",
              "       0.        , 0.        , 0.        , 0.        , 0.        ,\n",
              "       0.        , 0.        , 0.        , 0.        , 0.        ,\n",
              "       0.        , 0.        , 0.        , 0.        , 0.        ,\n",
              "       0.        , 0.        , 0.        , 0.        , 0.        ,\n",
              "       0.        , 0.        , 0.        , 0.        , 0.        ,\n",
              "       0.        , 0.        , 0.        , 0.        , 0.        ,\n",
              "       0.        , 0.        , 0.        , 0.        , 0.        ,\n",
              "       0.        , 0.        , 0.        , 0.        , 0.        ,\n",
              "       0.        , 0.        , 0.        , 0.        , 0.        ,\n",
              "       0.        , 0.        , 0.        , 0.        , 0.        ,\n",
              "       0.        , 0.        , 0.        , 0.        , 0.        ,\n",
              "       0.        , 0.        , 0.        , 0.        , 0.        ,\n",
              "       0.        , 0.        , 0.        , 0.        , 0.        ,\n",
              "       0.        , 0.        , 0.        , 0.38546222, 0.        ,\n",
              "       0.        , 0.        , 0.        , 0.        , 0.        ,\n",
              "       0.        , 0.        , 0.        , 0.        , 0.        ,\n",
              "       0.        , 0.        , 0.        , 0.        , 0.        ,\n",
              "       0.        , 0.        , 0.        , 0.44022635, 0.        ,\n",
              "       0.        , 0.        , 0.        , 0.        , 0.        ,\n",
              "       0.        , 0.        , 0.        , 0.        , 0.        ,\n",
              "       0.        , 0.        , 0.        , 0.        , 0.        ,\n",
              "       0.        , 0.        , 0.        , 0.        , 0.        ,\n",
              "       0.        , 0.        , 0.        , 0.        , 0.        ,\n",
              "       0.        , 0.        , 0.        , 0.        , 0.        ,\n",
              "       0.        , 0.        , 0.        , 0.        , 0.        ,\n",
              "       0.        , 0.        , 0.        , 0.        , 0.        ,\n",
              "       0.        , 0.        , 0.        , 0.        , 0.        ,\n",
              "       0.        , 0.        , 0.        , 0.        , 0.        ,\n",
              "       0.        , 0.        , 0.        , 0.        , 0.        ,\n",
              "       0.        , 0.        , 0.        , 0.        , 0.        ,\n",
              "       0.        , 0.        , 0.        , 0.        , 0.        ,\n",
              "       0.        , 0.        , 0.        , 0.        , 0.        ,\n",
              "       0.        , 0.        , 0.        , 0.        , 0.        ,\n",
              "       0.        , 0.3858076 , 0.        , 0.        , 0.        ,\n",
              "       0.        , 0.        , 0.        , 0.        , 0.        ,\n",
              "       0.        , 0.        , 0.        , 0.        , 0.        ,\n",
              "       0.        , 0.        , 0.        , 0.        , 0.        ,\n",
              "       0.        , 0.        , 0.        , 0.        , 0.        ,\n",
              "       0.        , 0.        , 0.        , 0.        , 0.        ,\n",
              "       0.        , 0.        , 0.        , 0.        , 0.        ,\n",
              "       0.        , 0.        , 0.        , 0.        , 0.        ,\n",
              "       0.        , 0.        , 0.        , 0.        , 0.        ,\n",
              "       0.        , 0.        , 0.        , 0.        , 0.        ,\n",
              "       0.        , 0.        , 0.        , 0.        , 0.        ,\n",
              "       0.        , 0.        , 0.        , 0.        , 0.        ,\n",
              "       0.        , 0.        , 0.        , 0.        , 0.        ,\n",
              "       0.        , 0.        , 0.        , 0.        , 0.        ,\n",
              "       0.        , 0.        , 0.        , 0.        , 0.        ,\n",
              "       0.        , 0.        , 0.        , 0.        , 0.        ,\n",
              "       0.        , 0.        , 0.        , 0.        , 0.        ,\n",
              "       0.        , 0.        , 0.        , 0.        , 0.        ,\n",
              "       0.        , 0.        , 0.        , 0.        , 0.        ,\n",
              "       0.29775592, 0.        , 0.        , 0.        , 0.        ,\n",
              "       0.        , 0.        , 0.        , 0.        , 0.        ,\n",
              "       0.        , 0.        , 0.        , 0.        , 0.        ,\n",
              "       0.        , 0.        , 0.        , 0.        , 0.        ,\n",
              "       0.        , 0.        , 0.        , 0.        , 0.        ,\n",
              "       0.        , 0.        , 0.        , 0.        , 0.        ,\n",
              "       0.        , 0.        , 0.        , 0.        , 0.        ,\n",
              "       0.        , 0.        , 0.        , 0.        , 0.        ,\n",
              "       0.        , 0.        , 0.        , 0.        , 0.        ,\n",
              "       0.        , 0.        , 0.        , 0.        , 0.        ,\n",
              "       0.        , 0.        , 0.        , 0.        , 0.        ,\n",
              "       0.28923011, 0.        , 0.        , 0.        , 0.        ,\n",
              "       0.        , 0.        , 0.        , 0.        , 0.        ,\n",
              "       0.        , 0.        , 0.        , 0.        , 0.        ,\n",
              "       0.        , 0.        , 0.        , 0.        , 0.        ,\n",
              "       0.        , 0.        , 0.        , 0.        , 0.        ,\n",
              "       0.        , 0.        , 0.        , 0.        , 0.        ,\n",
              "       0.        , 0.        , 0.        , 0.        , 0.        ,\n",
              "       0.        , 0.        , 0.        , 0.        , 0.        ,\n",
              "       0.        , 0.        , 0.        , 0.        , 0.        ,\n",
              "       0.        , 0.        , 0.        , 0.        , 0.        ,\n",
              "       0.        , 0.        , 0.        , 0.        , 0.        ,\n",
              "       0.        , 0.        , 0.        , 0.        , 0.        ,\n",
              "       0.        , 0.        , 0.        , 0.        , 0.        ,\n",
              "       0.        , 0.        , 0.        , 0.        , 0.        ,\n",
              "       0.        , 0.42308654, 0.        , 0.        , 0.        ,\n",
              "       0.        , 0.        , 0.        , 0.        , 0.        ,\n",
              "       0.        , 0.        , 0.        , 0.        , 0.        ,\n",
              "       0.        , 0.        , 0.        , 0.        , 0.        ,\n",
              "       0.        , 0.        , 0.        , 0.        , 0.        ,\n",
              "       0.        , 0.        , 0.        , 0.        , 0.        ,\n",
              "       0.        , 0.        , 0.        , 0.        , 0.        ,\n",
              "       0.        , 0.        , 0.        , 0.        , 0.        ,\n",
              "       0.        , 0.        , 0.        , 0.        , 0.        ,\n",
              "       0.        , 0.        , 0.        , 0.        , 0.        ,\n",
              "       0.        , 0.        , 0.        , 0.        , 0.        ,\n",
              "       0.        , 0.        , 0.        , 0.        , 0.        ,\n",
              "       0.        , 0.        , 0.        , 0.        , 0.        ,\n",
              "       0.        , 0.        , 0.        , 0.        , 0.        ,\n",
              "       0.        , 0.        , 0.        , 0.        , 0.        ])"
            ]
          },
          "metadata": {},
          "execution_count": 18
        }
      ],
      "execution_count": 18
    },
    {
      "cell_type": "code",
      "source": [
        "df['title_word_count'] = df['title'].apply(lambda x: len(x.split()))\n",
        "df['description_word_count'] = df['description'].apply(lambda x: len(x.split()))"
      ],
      "metadata": {
        "trusted": true,
        "execution": {
          "iopub.status.busy": "2024-12-26T12:46:19.587607Z",
          "iopub.execute_input": "2024-12-26T12:46:19.588008Z",
          "iopub.status.idle": "2024-12-26T12:46:19.893376Z",
          "shell.execute_reply.started": "2024-12-26T12:46:19.587973Z",
          "shell.execute_reply": "2024-12-26T12:46:19.892425Z"
        },
        "id": "JE0TqBiCZXFz"
      },
      "outputs": [],
      "execution_count": null
    },
    {
      "cell_type": "code",
      "source": [
        "df['tag_count'] = df['tags'].apply(lambda x: len(eval(x)) if pd.notnull(x) else 0)"
      ],
      "metadata": {
        "trusted": true,
        "execution": {
          "iopub.status.busy": "2024-12-26T12:46:24.300185Z",
          "iopub.execute_input": "2024-12-26T12:46:24.300531Z",
          "iopub.status.idle": "2024-12-26T12:46:25.036334Z",
          "shell.execute_reply.started": "2024-12-26T12:46:24.300505Z",
          "shell.execute_reply": "2024-12-26T12:46:25.035275Z"
        },
        "id": "5CXzKqeSZXF0"
      },
      "outputs": [],
      "execution_count": null
    },
    {
      "cell_type": "code",
      "source": [
        "import numpy as np\n",
        "\n",
        "features = np.hstack([\n",
        "        title_tfidf,\n",
        "        description_tfidf,\n",
        "        df[['title_word_count', 'description_word_count', 'tag_count', 'publish_day']].values\n",
        "    ])\n",
        "\n",
        "targets = df[['views', 'likes', 'dislikes']].values"
      ],
      "metadata": {
        "trusted": true,
        "execution": {
          "iopub.status.busy": "2024-12-26T12:48:05.565531Z",
          "iopub.execute_input": "2024-12-26T12:48:05.565877Z",
          "iopub.status.idle": "2024-12-26T12:48:05.890858Z",
          "shell.execute_reply.started": "2024-12-26T12:48:05.565850Z",
          "shell.execute_reply": "2024-12-26T12:48:05.890058Z"
        },
        "id": "nlDeQnXlZXF0"
      },
      "outputs": [],
      "execution_count": null
    },
    {
      "cell_type": "code",
      "source": [
        "from sklearn.model_selection import train_test_split\n",
        "from sklearn.feature_extraction.text import TfidfVectorizer\n",
        "from sklearn.ensemble import RandomForestRegressor\n",
        "from sklearn.metrics import mean_absolute_error, r2_score\n",
        "\n",
        "def train_model(features, targets):\n",
        "    models = {}\n",
        "    predictions = {}\n",
        "    errors = {}\n",
        "    r2_scores = {}\n",
        "\n",
        "    # for i, target_name in enumerate(['views', 'likes', 'dislikes']):\n",
        "    for i, target_name in enumerate(['views']):\n",
        "        X_train, X_test, y_train, y_test = train_test_split(features, targets[:, i], test_size=0.2, random_state=128)\n",
        "\n",
        "        model = RandomForestRegressor(random_state=128, n_estimators=100)\n",
        "        model.fit(X_train, y_train)\n",
        "\n",
        "        y_pred = model.predict(X_test)\n",
        "        mae = mean_absolute_error(y_test, y_pred)\n",
        "        r2 = r2_score(y_test, y_pred)\n",
        "\n",
        "        models[target_name] = model\n",
        "        predictions[target_name] = y_pred\n",
        "        errors[target_name] = mae\n",
        "        r2_scores[target_name] = r2\n",
        "\n",
        "        print(f\"Model for {target_name}: MAE = {mae}, R2 = {r2}\")\n",
        "\n",
        "    return models, predictions, errors, r2_scores"
      ],
      "metadata": {
        "trusted": true,
        "execution": {
          "iopub.status.busy": "2024-12-26T12:50:28.682360Z",
          "iopub.execute_input": "2024-12-26T12:50:28.682693Z",
          "iopub.status.idle": "2024-12-26T12:50:29.105961Z",
          "shell.execute_reply.started": "2024-12-26T12:50:28.682669Z",
          "shell.execute_reply": "2024-12-26T12:50:29.104960Z"
        },
        "id": "OHfR1WijZXF1"
      },
      "outputs": [],
      "execution_count": null
    },
    {
      "cell_type": "code",
      "source": [
        "models, predictions, errors, r2_scores = train_model(features, targets)"
      ],
      "metadata": {
        "trusted": true,
        "execution": {
          "iopub.status.busy": "2024-12-26T12:50:35.370413Z",
          "iopub.execute_input": "2024-12-26T12:50:35.370766Z",
          "iopub.status.idle": "2024-12-26T14:27:50.986833Z",
          "shell.execute_reply.started": "2024-12-26T12:50:35.370738Z",
          "shell.execute_reply": "2024-12-26T14:27:50.985950Z"
        },
        "id": "_R1CV2sdZXF1",
        "outputId": "79f5cba9-af58-42df-cabf-417dc380908c"
      },
      "outputs": [
        {
          "name": "stdout",
          "text": "Model for views: MAE = 554826.9224037295, R2 = 0.9054736841665495\n",
          "output_type": "stream"
        }
      ],
      "execution_count": null
    },
    {
      "cell_type": "code",
      "source": [
        "import joblib"
      ],
      "metadata": {
        "trusted": true,
        "execution": {
          "iopub.status.busy": "2024-12-26T14:31:54.423557Z",
          "iopub.execute_input": "2024-12-26T14:31:54.423992Z",
          "iopub.status.idle": "2024-12-26T14:31:54.552187Z",
          "shell.execute_reply.started": "2024-12-26T14:31:54.423947Z",
          "shell.execute_reply": "2024-12-26T14:31:54.551356Z"
        },
        "id": "v_XiJVBFZXF2"
      },
      "outputs": [],
      "execution_count": 6
    },
    {
      "cell_type": "code",
      "source": [
        "joblib.dump(models[\"views\"],\"views_model.pkl\")"
      ],
      "metadata": {
        "id": "tPL2XDHaaYX9"
      },
      "execution_count": null,
      "outputs": []
    },
    {
      "cell_type": "code",
      "source": [
        "views_model = joblib.load(\"views_model.pkl\")"
      ],
      "metadata": {
        "id": "zm00GU53aTxX"
      },
      "execution_count": 7,
      "outputs": []
    },
    {
      "cell_type": "code",
      "source": [
        "import sklearn\n",
        "print(sklearn.__version__)"
      ],
      "metadata": {
        "colab": {
          "base_uri": "https://localhost:8080/"
        },
        "id": "ZpwANSFJdQ1l",
        "outputId": "c0dd7150-a630-4813-f8fb-b30c8c8ec57f"
      },
      "execution_count": 2,
      "outputs": [
        {
          "output_type": "stream",
          "name": "stdout",
          "text": [
            "1.2.2\n"
          ]
        }
      ]
    },
    {
      "cell_type": "code",
      "source": [
        "!pip install scikit-learn==1.2.2"
      ],
      "metadata": {
        "colab": {
          "base_uri": "https://localhost:8080/"
        },
        "id": "nMeQCDA5dTLF",
        "outputId": "73de0b54-8e7f-47b7-f117-8a61d0b1cf99"
      },
      "execution_count": 1,
      "outputs": [
        {
          "output_type": "stream",
          "name": "stdout",
          "text": [
            "Requirement already satisfied: scikit-learn==1.2.2 in /usr/local/lib/python3.10/dist-packages (1.2.2)\n",
            "Requirement already satisfied: numpy>=1.17.3 in /usr/local/lib/python3.10/dist-packages (from scikit-learn==1.2.2) (1.26.4)\n",
            "Requirement already satisfied: scipy>=1.3.2 in /usr/local/lib/python3.10/dist-packages (from scikit-learn==1.2.2) (1.13.1)\n",
            "Requirement already satisfied: joblib>=1.1.1 in /usr/local/lib/python3.10/dist-packages (from scikit-learn==1.2.2) (1.4.2)\n",
            "Requirement already satisfied: threadpoolctl>=2.0.0 in /usr/local/lib/python3.10/dist-packages (from scikit-learn==1.2.2) (3.5.0)\n"
          ]
        }
      ]
    },
    {
      "cell_type": "code",
      "source": [
        "def predict_views(model, new_data):\n",
        "    new_df = pd.DataFrame([new_data])\n",
        "    new_df['clean_title'] = new_df['title'].apply(preprocess_text)\n",
        "    new_df['clean_description'] = new_df['description'].apply(preprocess_text)\n",
        "    new_df['title_word_count'] = new_df['clean_title'].apply(lambda x: len(x.split()))\n",
        "    new_df['description_word_count'] = new_df['clean_description'].apply(lambda x: len(x.split()))\n",
        "    new_df['tag_count'] = new_df['tags'].apply(lambda x: len(eval(x)) if pd.notnull(x) else 0)\n",
        "\n",
        "    title_tfidf = vectorizer.transform(new_df['clean_title']).toarray()\n",
        "    description_tfidf = vectorizer.transform(new_df['clean_description']).toarray()\n",
        "\n",
        "    features = np.hstack([\n",
        "        title_tfidf,\n",
        "        description_tfidf,\n",
        "        new_df[['title_word_count', 'description_word_count', 'tag_count', 'publish_day']].values\n",
        "    ])\n",
        "\n",
        "    predicted_views = model.predict(features)\n",
        "    print(predicted_views)\n",
        "    return predicted_views[0]"
      ],
      "metadata": {
        "trusted": true,
        "execution": {
          "iopub.status.busy": "2024-12-26T14:33:52.614055Z",
          "iopub.execute_input": "2024-12-26T14:33:52.614374Z",
          "iopub.status.idle": "2024-12-26T14:33:52.620454Z",
          "shell.execute_reply.started": "2024-12-26T14:33:52.614350Z",
          "shell.execute_reply": "2024-12-26T14:33:52.619437Z"
        },
        "id": "ue6kLuQjZXF2"
      },
      "outputs": [],
      "execution_count": 8
    },
    {
      "cell_type": "code",
      "source": [
        "import numpy as np"
      ],
      "metadata": {
        "id": "_n0DZkvOeS-9"
      },
      "execution_count": 20,
      "outputs": []
    },
    {
      "cell_type": "code",
      "source": [
        "# new_data = {\n",
        "#     'title': \"React Junior Developer Interview (Questions & Challenge)\",\n",
        "#     'description': \"This is a React interview for a junior developer position. The interview will start with about 30 minutes of questions about React, and then a 30 minute coding exercise to build a simple React application. The goal with this is to give you an example of what it would be like to interview for a Junior React developer position, so that you can be prepared for it and get the job!\",\n",
        "#     'tags': \"['react', 'web development', 'interview', 'junior developer', 'frontend']\",\n",
        "#     'publish_day': 3,        # Wednesday\n",
        "#     'publish_hour': 15,      # 3 PM\n",
        "#     'publish_month': 11,     # November\n",
        "#     'publish_year': 2024     # Year\n",
        "# }\n",
        "new_data = {\n",
        "    'title': \"rowi na nadha virender official music video latest punjabi songs 2017 vs records\",\n",
        "    'description': \"vs records vikas sethi presents rowi na cry voice nadha virender n n nsong rowi na nsinger lyrics nadha virender nstarring nadha virender prabh grewal ashmaya yadav nproducer jr sethi amit sethi nco producer jaspreet sethi nproject iswar kamboj vikas sethi nmusic freak singh nspcl thanks harry mirok jaspal nadha sarv nadha manoj nadha nconceived jobanjit singh ramneek singh nonline promotion digital kings 9877999994 nfacebook promotions royal media entertainment nground pr iconic media neditor gagan sharma nvideo tedda banda twins brothers n nlabel vs records 91 9988107777 n ndownload listen full audio n nitunes nsaavn n n1 tere karke ncaller tune codes nvodafone subscribers dial 5379912397 nairtel subscribers dial 5432116406253 nidea subscribers dial 567899912397 nreliance subscribers sms ct 9912397 51234 naircel subscribers sms dt 6898515 53000 ntata docomo subscribers sms set 9912397 543211 nbsnl north west subscribers sms bt 6898515 56700 n n2 gal jitho shuru ncaller tune codes nvodafone subscribers dial 5379912405 nairtel subscribers dial 5432116406237 nidea subscribers dial 567899912405 nreliance subscribers sms ct 9912405 51234 naircel subscribers sms dt 6898513 53000 ntata docomo subscribers sms set 9912405 543211 nbsnl north west subscribers sms bt 6898513 56700 n n3 rowi na ncaller tune codes nvodafone subscribers dial 5379912420 nairtel subscribers dial 5432116406215 nidea subscribers dial 567899912420 nreliance subscribers sms ct 9912420 51234 naircel subscribers sms dt 6898514 53000 ntata docomo subscribers sms set 9912420 543211 nbsnl north west subscribers sms bt 6898514 56700 n n4 tu rowi na ncaller tune codes nvodafone subscribers dial 5379912445 nairtel subscribers dial 5432116406252 nidea subscribers dial 567899912445 nreliance subscribers sms ct 9912445 51234 naircel subscribers sms dt 6898516 53000 ntata docomo subscribers sms set 9912445 543211 nbsnl north west subscribers sms bt 6898516 56700 n nsubscribe us videos partner bull18\",\n",
        "    'tags': \"['best song of the week']\",\n",
        "    'publish_day': 3,\n",
        "}\n",
        "# new_data = {\n",
        "#     'title': \"Sharry Mann Cute Munda Song Teaser Parmish Verma Releasing 17 November\",\n",
        "#     'description': \"This is a teaser for Sharry Mann's new song Cute Munda. Directed by Parmish Verma, releasing on 17th November.\",\n",
        "#     'tags': \"['Sharry Mann', 'Cute Munda', 'Parmish Verma', 'Punjabi Songs', 'Teaser']\",\n",
        "#     'publish_day': 3,        # Wednesday\n",
        "#     'publish_hour': 15,      # 3 PM\n",
        "#     'publish_month': 11,     # November\n",
        "#     'publish_year': 2024     # Year\n",
        "# }\n",
        "\n",
        "# Predict views\n",
        "predicted_views = predict_views(views_model, new_data)\n",
        "print(f\"Predicted Views by VIEWS_MODEL: {predicted_views}\")"
      ],
      "metadata": {
        "trusted": true,
        "execution": {
          "iopub.status.busy": "2024-12-26T14:34:08.978627Z",
          "iopub.execute_input": "2024-12-26T14:34:08.979014Z",
          "iopub.status.idle": "2024-12-26T14:34:09.061233Z",
          "shell.execute_reply.started": "2024-12-26T14:34:08.978981Z",
          "shell.execute_reply": "2024-12-26T14:34:09.059966Z"
        },
        "colab": {
          "base_uri": "https://localhost:8080/"
        },
        "id": "1vzd_zkZZXF3",
        "outputId": "1e626313-a624-4d50-b83b-f1f20d636cf2"
      },
      "outputs": [
        {
          "output_type": "stream",
          "name": "stdout",
          "text": [
            "[4368283.47009596]\n",
            "Predicted Views by VIEWS_MODEL: 4368283.4700959595\n"
          ]
        }
      ],
      "execution_count": 21
    }
  ]
}